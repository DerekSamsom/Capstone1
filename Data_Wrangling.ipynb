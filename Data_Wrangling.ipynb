{
 "cells": [
  {
   "cell_type": "code",
   "execution_count": 1,
   "metadata": {},
   "outputs": [],
   "source": [
    "import pandas as pd\n",
    "from datetime import datetime\n",
    "import numpy as np"
   ]
  },
  {
   "cell_type": "code",
   "execution_count": 2,
   "metadata": {},
   "outputs": [],
   "source": [
    "pd.options.display.max_rows = 150"
   ]
  },
  {
   "cell_type": "markdown",
   "metadata": {},
   "source": [
    "First I will load the loan data, which can be downloaded as a csv from https://www.lendingclub.com/info/download-data.action\n",
    "\n",
    "The data used represents loans that were made in years 2012 and 2013.  I only want to look at completed loans, and since there are 36 and 60 month loans, I need to go back at least 60 months to obtian completed 60 month loans.\n",
    "\n",
    "The dependent variable is `total_pymnt`, which represents the total principal and interest paid back on the loan that will be predicted.  The prediction will be used when the loan is originated, so only the variables that would be known at that that time should be used."
   ]
  },
  {
   "cell_type": "code",
   "execution_count": 3,
   "metadata": {},
   "outputs": [],
   "source": [
    "loans = pd.read_csv('loanStats3b.csv', low_memory = False, skiprows = 1)"
   ]
  },
  {
   "cell_type": "code",
   "execution_count": 4,
   "metadata": {},
   "outputs": [
    {
     "data": {
      "text/plain": [
       "(188183, 145)"
      ]
     },
     "execution_count": 4,
     "metadata": {},
     "output_type": "execute_result"
    }
   ],
   "source": [
    "loans.shape"
   ]
  },
  {
   "cell_type": "code",
   "execution_count": 5,
   "metadata": {},
   "outputs": [
    {
     "data": {
      "text/html": [
       "<div>\n",
       "<style scoped>\n",
       "    .dataframe tbody tr th:only-of-type {\n",
       "        vertical-align: middle;\n",
       "    }\n",
       "\n",
       "    .dataframe tbody tr th {\n",
       "        vertical-align: top;\n",
       "    }\n",
       "\n",
       "    .dataframe thead th {\n",
       "        text-align: right;\n",
       "    }\n",
       "</style>\n",
       "<table border=\"1\" class=\"dataframe\">\n",
       "  <thead>\n",
       "    <tr style=\"text-align: right;\">\n",
       "      <th></th>\n",
       "      <th>id</th>\n",
       "      <th>member_id</th>\n",
       "      <th>loan_amnt</th>\n",
       "      <th>funded_amnt</th>\n",
       "      <th>funded_amnt_inv</th>\n",
       "    </tr>\n",
       "  </thead>\n",
       "  <tbody>\n",
       "    <tr>\n",
       "      <th>188178</th>\n",
       "      <td>NaN</td>\n",
       "      <td>NaN</td>\n",
       "      <td>35000.0</td>\n",
       "      <td>35000.0</td>\n",
       "      <td>35000.0</td>\n",
       "    </tr>\n",
       "    <tr>\n",
       "      <th>188179</th>\n",
       "      <td>NaN</td>\n",
       "      <td>NaN</td>\n",
       "      <td>12000.0</td>\n",
       "      <td>12000.0</td>\n",
       "      <td>12000.0</td>\n",
       "    </tr>\n",
       "    <tr>\n",
       "      <th>188180</th>\n",
       "      <td>NaN</td>\n",
       "      <td>NaN</td>\n",
       "      <td>12000.0</td>\n",
       "      <td>7775.0</td>\n",
       "      <td>7775.0</td>\n",
       "    </tr>\n",
       "    <tr>\n",
       "      <th>188181</th>\n",
       "      <td>Total amount funded in policy code 1: 2700702175</td>\n",
       "      <td>NaN</td>\n",
       "      <td>NaN</td>\n",
       "      <td>NaN</td>\n",
       "      <td>NaN</td>\n",
       "    </tr>\n",
       "    <tr>\n",
       "      <th>188182</th>\n",
       "      <td>Total amount funded in policy code 2: 81866225</td>\n",
       "      <td>NaN</td>\n",
       "      <td>NaN</td>\n",
       "      <td>NaN</td>\n",
       "      <td>NaN</td>\n",
       "    </tr>\n",
       "  </tbody>\n",
       "</table>\n",
       "</div>"
      ],
      "text/plain": [
       "                                                      id  member_id  \\\n",
       "188178                                               NaN        NaN   \n",
       "188179                                               NaN        NaN   \n",
       "188180                                               NaN        NaN   \n",
       "188181  Total amount funded in policy code 1: 2700702175        NaN   \n",
       "188182    Total amount funded in policy code 2: 81866225        NaN   \n",
       "\n",
       "        loan_amnt  funded_amnt  funded_amnt_inv  \n",
       "188178    35000.0      35000.0          35000.0  \n",
       "188179    12000.0      12000.0          12000.0  \n",
       "188180    12000.0       7775.0           7775.0  \n",
       "188181        NaN          NaN              NaN  \n",
       "188182        NaN          NaN              NaN  "
      ]
     },
     "execution_count": 5,
     "metadata": {},
     "output_type": "execute_result"
    }
   ],
   "source": [
    "loans.iloc[:,:5].tail()"
   ]
  },
  {
   "cell_type": "markdown",
   "metadata": {},
   "source": [
    "The last 2 rows should not have been read into the dataframe and will be removed."
   ]
  },
  {
   "cell_type": "code",
   "execution_count": 6,
   "metadata": {},
   "outputs": [],
   "source": [
    "loans = loans[:-2]"
   ]
  },
  {
   "cell_type": "markdown",
   "metadata": {},
   "source": [
    "Only the variables that are known at before the loan is funded will be useful for predicting the amount that will be paid, so any column that contains information that is collected after the loan is funded will be removed, except for `total_pymnt`, which is the dependent variable."
   ]
  },
  {
   "cell_type": "code",
   "execution_count": 7,
   "metadata": {},
   "outputs": [],
   "source": [
    "cols_to_remove = [\n",
    "'collection_recovery_fee',\n",
    "'funded_amnt_inv',\n",
    "'last_pymnt_amnt',\n",
    "'last_pymnt_d',\n",
    "'next_pymnt_d',\n",
    "'out_prncp',\n",
    "'desc',\n",
    "'emp_title',\n",
    "'out_prncp_inv',\n",
    "'pymnt_plan',\n",
    "'recoveries',\n",
    "'total_pymnt_inv',\n",
    "'loan_amnt',\n",
    "'total_rec_int',\n",
    "'total_rec_late_fee',\n",
    "'total_rec_prncp',\n",
    "'hardship_flag',\n",
    "'hardship_type',\n",
    "'hardship_reason',\n",
    "'hardship_status',\n",
    "'deferral_term',\n",
    "'hardship_amount',\n",
    "'hardship_start_date',\n",
    "'hardship_end_date',\n",
    "'payment_plan_start_date',\n",
    "'hardship_length',\n",
    "'hardship_dpd',\n",
    "'hardship_loan_status',\n",
    "'orig_projected_additional_accrued_interest',\n",
    "'hardship_payoff_balance_amount',\n",
    "'hardship_last_payment_amount',\n",
    "'debt_settlement_flag',\n",
    "'debt_settlement_flag_date',\n",
    "'settlement_status',\n",
    "'settlement_date',\n",
    "'settlement_amount',\n",
    "'settlement_percentage',\n",
    "'settlement_term']"
   ]
  },
  {
   "cell_type": "code",
   "execution_count": 8,
   "metadata": {},
   "outputs": [],
   "source": [
    "loans.drop(cols_to_remove, inplace = True, axis = 1)"
   ]
  },
  {
   "cell_type": "markdown",
   "metadata": {},
   "source": [
    "### Data Dictionary"
   ]
  },
  {
   "cell_type": "code",
   "execution_count": 9,
   "metadata": {},
   "outputs": [],
   "source": [
    "data_dict = pd.read_excel('LCDataDictionary.xlsx', sheet_name = 'LoanStats')"
   ]
  },
  {
   "cell_type": "code",
   "execution_count": 10,
   "metadata": {},
   "outputs": [],
   "source": [
    "data_dict.columns = ['Variable', 'Description']"
   ]
  },
  {
   "cell_type": "code",
   "execution_count": 11,
   "metadata": {},
   "outputs": [],
   "source": [
    "variables = pd.DataFrame(loans.columns)\n",
    "variables.columns = ['Variable']"
   ]
  },
  {
   "cell_type": "code",
   "execution_count": 12,
   "metadata": {},
   "outputs": [],
   "source": [
    "new_dict = pd.merge(variables, data_dict)"
   ]
  },
  {
   "cell_type": "code",
   "execution_count": 13,
   "metadata": {},
   "outputs": [
    {
     "name": "stdout",
     "output_type": "stream",
     "text": [
      "Variable                                        Description\n",
      "                            id      A unique LC assigned ID for the loan listing.\n",
      "                     member_id   A unique LC assigned Id for the borrower member.\n",
      "                   funded_amnt  The total amount committed to that loan at tha...\n",
      "                          term  The number of payments on the loan. Values are...\n",
      "                      int_rate                          Interest Rate on the loan\n",
      "                   installment  The monthly payment owed by the borrower if th...\n",
      "                         grade                             LC assigned loan grade\n",
      "                     sub_grade                          LC assigned loan subgrade\n",
      "                    emp_length  Employment length in years. Possible values ar...\n",
      "                home_ownership  The home ownership status provided by the borr...\n",
      "                    annual_inc  The self-reported annual income provided by th...\n",
      "           verification_status  Indicates if income was verified by LC, not ve...\n",
      "                       issue_d                The month which the loan was funded\n",
      "                   loan_status                         Current status of the loan\n",
      "                           url             URL for the LC page with listing data.\n",
      "                       purpose  A category provided by the borrower for the lo...\n",
      "                         title            The loan title provided by the borrower\n",
      "                      zip_code  The first 3 numbers of the zip code provided b...\n",
      "                    addr_state  The state provided by the borrower in the loan...\n",
      "                           dti  A ratio calculated using the borrower’s total ...\n",
      "                   delinq_2yrs  The number of 30+ days past-due incidences of ...\n",
      "              earliest_cr_line  The month the borrower's earliest reported cre...\n",
      "                inq_last_6mths  The number of inquiries in past 6 months (excl...\n",
      "        mths_since_last_delinq  The number of months since the borrower's last...\n",
      "        mths_since_last_record  The number of months since the last public rec...\n",
      "                      open_acc  The number of open credit lines in the borrowe...\n",
      "                       pub_rec                Number of derogatory public records\n",
      "                     revol_bal                     Total credit revolving balance\n",
      "                    revol_util  Revolving line utilization rate, or the amount...\n",
      "                     total_acc  The total number of credit lines currently in ...\n",
      "           initial_list_status  The initial listing status of the loan. Possib...\n",
      "                   total_pymnt  Payments received to date for total amount funded\n",
      "            last_credit_pull_d  The most recent month LC pulled credit for thi...\n",
      "    collections_12_mths_ex_med  Number of collections in 12 months excluding m...\n",
      "   mths_since_last_major_derog    Months since most recent 90-day or worse rating\n",
      "                   policy_code  publicly available policy_code=1\\nnew products...\n",
      "              application_type  Indicates whether the loan is an individual ap...\n",
      "              annual_inc_joint  The combined self-reported annual income provi...\n",
      "                     dti_joint  A ratio calculated using the co-borrowers' tot...\n",
      "                acc_now_delinq  The number of accounts on which the borrower i...\n",
      "                  tot_coll_amt                 Total collection amounts ever owed\n",
      "                   tot_cur_bal              Total current balance of all accounts\n",
      "                   open_acc_6m             Number of open trades in last 6 months\n",
      "                   open_act_il      Number of currently active installment trades\n",
      "                   open_il_12m  Number of installment accounts opened in past ...\n",
      "                   open_il_24m  Number of installment accounts opened in past ...\n",
      "            mths_since_rcnt_il  Months since most recent installment accounts ...\n",
      "                  total_bal_il  Total current balance of all installment accounts\n",
      "                       il_util  Ratio of total current balance to high credit/...\n",
      "                   open_rv_12m  Number of revolving trades opened in past 12 m...\n",
      "                   open_rv_24m  Number of revolving trades opened in past 24 m...\n",
      "                    max_bal_bc  Maximum current balance owed on all revolving ...\n",
      "                      all_util              Balance to credit limit on all trades\n",
      "                        inq_fi               Number of personal finance inquiries\n",
      "                   total_cu_tl                           Number of finance trades\n",
      "                  inq_last_12m       Number of credit inquiries in past 12 months\n",
      "          acc_open_past_24mths         Number of trades opened in past 24 months.\n",
      "                   avg_cur_bal            Average current balance of all accounts\n",
      "                bc_open_to_buy          Total open to buy on revolving bankcards.\n",
      "                       bc_util  Ratio of total current balance to high credit/...\n",
      "      chargeoff_within_12_mths             Number of charge-offs within 12 months\n",
      "                   delinq_amnt  The past-due amount owed for the accounts on w...\n",
      "            mo_sin_old_il_acct  Months since oldest bank installment account o...\n",
      "          mo_sin_old_rev_tl_op       Months since oldest revolving account opened\n",
      "         mo_sin_rcnt_rev_tl_op  Months since most recent revolving account opened\n",
      "                mo_sin_rcnt_tl            Months since most recent account opened\n",
      "                      mort_acc                       Number of mortgage accounts.\n",
      "          mths_since_recent_bc  Months since most recent bankcard account opened.\n",
      "      mths_since_recent_bc_dlq      Months since most recent bankcard delinquency\n",
      "         mths_since_recent_inq                  Months since most recent inquiry.\n",
      "mths_since_recent_revol_delinq    Months since most recent revolving delinquency.\n",
      "         num_accts_ever_120_pd  Number of accounts ever 120 or more days past due\n",
      "                num_actv_bc_tl       Number of currently active bankcard accounts\n",
      "               num_actv_rev_tl        Number of currently active revolving trades\n",
      "                   num_bc_sats           Number of satisfactory bankcard accounts\n",
      "                     num_bc_tl                        Number of bankcard accounts\n",
      "                     num_il_tl                     Number of installment accounts\n",
      "                 num_op_rev_tl                  Number of open revolving accounts\n",
      "                 num_rev_accts                       Number of revolving accounts\n",
      "           num_rev_tl_bal_gt_0         Number of revolving trades with balance >0\n",
      "                      num_sats                    Number of satisfactory accounts\n",
      "              num_tl_120dpd_2m  Number of accounts currently 120 days past due...\n",
      "                  num_tl_30dpd  Number of accounts currently 30 days past due ...\n",
      "            num_tl_90g_dpd_24m  Number of accounts 90 or more days past due in...\n",
      "            num_tl_op_past_12m        Number of accounts opened in past 12 months\n",
      "                pct_tl_nvr_dlq                 Percent of trades never delinquent\n",
      "              percent_bc_gt_75  Percentage of all bankcard accounts > 75% of l...\n",
      "          pub_rec_bankruptcies               Number of public record bankruptcies\n",
      "                     tax_liens                                Number of tax liens\n",
      "               tot_hi_cred_lim                     Total high credit/credit limit\n",
      "             total_bal_ex_mort            Total credit balance excluding mortgage\n",
      "                total_bc_limit            Total bankcard high credit/credit limit\n",
      "    total_il_high_credit_limit         Total installment high credit/credit limit\n",
      "           sec_app_open_act_il   Number of currently active installment trades...\n",
      "           disbursement_method  The method by which the borrower receives thei...\n"
     ]
    }
   ],
   "source": [
    "print(new_dict.to_string(index=False))"
   ]
  },
  {
   "cell_type": "markdown",
   "metadata": {},
   "source": [
    "### Data Cleanup"
   ]
  },
  {
   "cell_type": "markdown",
   "metadata": {},
   "source": [
    "I only want loans that are completed, otherwise the dependent variable (total amount paid on the loan) is unknown. I will look at the loan status to determine which loans to remove."
   ]
  },
  {
   "cell_type": "code",
   "execution_count": 14,
   "metadata": {},
   "outputs": [
    {
     "data": {
      "text/plain": [
       "Fully Paid            154671\n",
       "Charged Off            29496\n",
       "Current                 3807\n",
       "Late (31-120 days)        97\n",
       "In Grace Period           65\n",
       "Late (16-30 days)         40\n",
       "Default                    5\n",
       "Name: loan_status, dtype: int64"
      ]
     },
     "execution_count": 14,
     "metadata": {},
     "output_type": "execute_result"
    }
   ],
   "source": [
    "loans['loan_status'].value_counts()"
   ]
  },
  {
   "cell_type": "markdown",
   "metadata": {},
   "source": [
    "Only loans with \"Fully Paid\" or \"Charged Off\" status are completed, and the rest will be removed."
   ]
  },
  {
   "cell_type": "code",
   "execution_count": 15,
   "metadata": {},
   "outputs": [
    {
     "data": {
      "text/plain": [
       "(184167, 107)"
      ]
     },
     "execution_count": 15,
     "metadata": {},
     "output_type": "execute_result"
    }
   ],
   "source": [
    "loans = loans.query('loan_status == \"Fully Paid\" | loan_status == \"Charged Off\"')\n",
    "loans.shape"
   ]
  },
  {
   "cell_type": "markdown",
   "metadata": {},
   "source": [
    "Next, I will take a look at the missing value counts."
   ]
  },
  {
   "cell_type": "code",
   "execution_count": 16,
   "metadata": {},
   "outputs": [
    {
     "data": {
      "text/plain": [
       "id                                     184167\n",
       "member_id                              184167\n",
       "emp_length                               7715\n",
       "url                                    184167\n",
       "title                                       7\n",
       "mths_since_last_delinq                 105379\n",
       "mths_since_last_record                 167026\n",
       "revol_util                                125\n",
       "last_credit_pull_d                         10\n",
       "mths_since_last_major_derog            152390\n",
       "annual_inc_joint                       184167\n",
       "dti_joint                              184167\n",
       "verification_status_joint              184167\n",
       "tot_coll_amt                            27741\n",
       "tot_cur_bal                             27741\n",
       "open_acc_6m                            184167\n",
       "open_act_il                            184167\n",
       "open_il_12m                            184167\n",
       "open_il_24m                            184167\n",
       "mths_since_rcnt_il                     184167\n",
       "total_bal_il                           184167\n",
       "il_util                                184167\n",
       "open_rv_12m                            184167\n",
       "open_rv_24m                            184167\n",
       "max_bal_bc                             184167\n",
       "all_util                               184167\n",
       "total_rev_hi_lim                        27741\n",
       "inq_fi                                 184167\n",
       "total_cu_tl                            184167\n",
       "inq_last_12m                           184167\n",
       "acc_open_past_24mths                     7495\n",
       "avg_cur_bal                             27747\n",
       "bc_open_to_buy                           8996\n",
       "bc_util                                  9083\n",
       "mo_sin_old_il_acct                      33780\n",
       "mo_sin_old_rev_tl_op                    27742\n",
       "mo_sin_rcnt_rev_tl_op                   27742\n",
       "mo_sin_rcnt_tl                          27741\n",
       "mort_acc                                 7495\n",
       "mths_since_recent_bc                     8801\n",
       "mths_since_recent_bc_dlq               148328\n",
       "mths_since_recent_inq                   27330\n",
       "mths_since_recent_revol_delinq         130980\n",
       "num_accts_ever_120_pd                   27741\n",
       "num_actv_bc_tl                          27741\n",
       "num_actv_rev_tl                         27741\n",
       "num_bc_sats                             16055\n",
       "num_bc_tl                               27741\n",
       "num_il_tl                               27741\n",
       "num_op_rev_tl                           27741\n",
       "num_rev_accts                           27741\n",
       "num_rev_tl_bal_gt_0                     27741\n",
       "num_sats                                16055\n",
       "num_tl_120dpd_2m                        27993\n",
       "num_tl_30dpd                            27741\n",
       "num_tl_90g_dpd_24m                      27741\n",
       "num_tl_op_past_12m                      27741\n",
       "pct_tl_nvr_dlq                          27885\n",
       "percent_bc_gt_75                         8998\n",
       "tot_hi_cred_lim                         27741\n",
       "total_bal_ex_mort                        7495\n",
       "total_bc_limit                           7495\n",
       "total_il_high_credit_limit              27741\n",
       "revol_bal_joint                        184167\n",
       "sec_app_earliest_cr_line               184167\n",
       "sec_app_inq_last_6mths                 184167\n",
       "sec_app_mort_acc                       184167\n",
       "sec_app_open_acc                       184167\n",
       "sec_app_revol_util                     184167\n",
       "sec_app_open_act_il                    184167\n",
       "sec_app_num_rev_accts                  184167\n",
       "sec_app_chargeoff_within_12_mths       184167\n",
       "sec_app_collections_12_mths_ex_med     184167\n",
       "sec_app_mths_since_last_major_derog    184167\n",
       "dtype: int64"
      ]
     },
     "execution_count": 16,
     "metadata": {},
     "output_type": "execute_result"
    }
   ],
   "source": [
    "nulls = loans.isnull().sum()\n",
    "nulls[nulls > 0]"
   ]
  },
  {
   "cell_type": "markdown",
   "metadata": {},
   "source": [
    "There are several columns where all 184,167 observations are null. I will initially drop all columns where every value is null."
   ]
  },
  {
   "cell_type": "code",
   "execution_count": 17,
   "metadata": {},
   "outputs": [],
   "source": [
    "loans = loans.dropna(axis = 'columns', how = 'all')"
   ]
  },
  {
   "cell_type": "code",
   "execution_count": 18,
   "metadata": {},
   "outputs": [
    {
     "data": {
      "text/plain": [
       "(184167, 76)"
      ]
     },
     "execution_count": 18,
     "metadata": {},
     "output_type": "execute_result"
    }
   ],
   "source": [
    "loans.shape"
   ]
  },
  {
   "cell_type": "markdown",
   "metadata": {},
   "source": [
    "The variables `title`, `revol_util` and `last_credit_pull_d` all have 150 or fewer missing values, and since the number is so small I will just drop the rows missing these values."
   ]
  },
  {
   "cell_type": "code",
   "execution_count": 19,
   "metadata": {},
   "outputs": [],
   "source": [
    "loans = loans.dropna(axis = 'rows', subset = ['title', 'revol_util', 'last_credit_pull_d'])"
   ]
  },
  {
   "cell_type": "code",
   "execution_count": 20,
   "metadata": {},
   "outputs": [
    {
     "data": {
      "text/plain": [
       "(184025, 76)"
      ]
     },
     "execution_count": 20,
     "metadata": {},
     "output_type": "execute_result"
    }
   ],
   "source": [
    "loans.shape"
   ]
  },
  {
   "cell_type": "markdown",
   "metadata": {},
   "source": [
    "Next, I want to remove any columns that have only one unique value. These will not add anything to the model, however, the unique values might be useful information for other reasons, so I will create a dictionary with the discarded column names and the unique value."
   ]
  },
  {
   "cell_type": "code",
   "execution_count": 21,
   "metadata": {},
   "outputs": [],
   "source": [
    "one_unique = {}  \n",
    "for col in loans.columns:\n",
    "    if len(loans[col].unique()) == 1:\n",
    "        one_unique.update({col: loans[col][1]})\n",
    "        loans.drop(col, inplace=True, axis=1)"
   ]
  },
  {
   "cell_type": "code",
   "execution_count": 22,
   "metadata": {},
   "outputs": [
    {
     "data": {
      "text/plain": [
       "(184025, 73)"
      ]
     },
     "execution_count": 22,
     "metadata": {},
     "output_type": "execute_result"
    }
   ],
   "source": [
    "loans.shape"
   ]
  },
  {
   "cell_type": "code",
   "execution_count": 23,
   "metadata": {},
   "outputs": [
    {
     "data": {
      "text/plain": [
       "{'policy_code': 1.0,\n",
       " 'application_type': 'Individual',\n",
       " 'disbursement_method': 'Cash'}"
      ]
     },
     "execution_count": 23,
     "metadata": {},
     "output_type": "execute_result"
    }
   ],
   "source": [
    "one_unique"
   ]
  },
  {
   "cell_type": "code",
   "execution_count": 24,
   "metadata": {},
   "outputs": [
    {
     "data": {
      "text/plain": [
       "MORTGAGE    94467\n",
       "RENT        74398\n",
       "OWN         15072\n",
       "OTHER          46\n",
       "NONE           42\n",
       "Name: home_ownership, dtype: int64"
      ]
     },
     "execution_count": 24,
     "metadata": {},
     "output_type": "execute_result"
    }
   ],
   "source": [
    "loans.home_ownership.value_counts()"
   ]
  },
  {
   "cell_type": "code",
   "execution_count": 25,
   "metadata": {},
   "outputs": [
    {
     "data": {
      "text/plain": [
       "(184025, 73)"
      ]
     },
     "execution_count": 25,
     "metadata": {},
     "output_type": "execute_result"
    }
   ],
   "source": [
    "loans.shape"
   ]
  },
  {
   "cell_type": "markdown",
   "metadata": {},
   "source": [
    "There are very few observations of 'Other' and 'None', which will be dropped."
   ]
  },
  {
   "cell_type": "code",
   "execution_count": 26,
   "metadata": {},
   "outputs": [],
   "source": [
    "loans = loans.query('home_ownership == \"MORTGAGE\" | home_ownership == \"RENT\" | home_ownership == \"OWN\"')"
   ]
  },
  {
   "cell_type": "code",
   "execution_count": 27,
   "metadata": {},
   "outputs": [
    {
     "data": {
      "text/plain": [
       "DE    460\n",
       "WY    442\n",
       "SD    398\n",
       "VT    296\n",
       "MS      3\n",
       "NE      3\n",
       "ID      2\n",
       "IA      1\n",
       "Name: addr_state, dtype: int64"
      ]
     },
     "execution_count": 27,
     "metadata": {},
     "output_type": "execute_result"
    }
   ],
   "source": [
    "state_val_counts = loans.addr_state.value_counts()\n",
    "state_val_counts[state_val_counts < 500]"
   ]
  },
  {
   "cell_type": "code",
   "execution_count": 28,
   "metadata": {},
   "outputs": [],
   "source": [
    "replace_map = {'addr_state': {'DE' : 'Other', 'WY' : 'Other', 'SD' : 'Other', 'VT' : 'Other', 'NE' : 'Other', 'MS' : 'Other','ID' : 'Other', 'IA' : 'Other'}}"
   ]
  },
  {
   "cell_type": "code",
   "execution_count": 29,
   "metadata": {},
   "outputs": [],
   "source": [
    "loans.replace(replace_map, inplace = True)"
   ]
  },
  {
   "cell_type": "code",
   "execution_count": 30,
   "metadata": {},
   "outputs": [
    {
     "data": {
      "text/plain": [
       "(183937, 73)"
      ]
     },
     "execution_count": 30,
     "metadata": {},
     "output_type": "execute_result"
    }
   ],
   "source": [
    "loans.shape"
   ]
  },
  {
   "cell_type": "markdown",
   "metadata": {},
   "source": [
    "Next I will check the data types to see if any were read incorrectly."
   ]
  },
  {
   "cell_type": "code",
   "execution_count": 31,
   "metadata": {},
   "outputs": [
    {
     "data": {
      "text/plain": [
       "funded_amnt                       float64\n",
       "term                               object\n",
       "int_rate                           object\n",
       "installment                       float64\n",
       "grade                              object\n",
       "sub_grade                          object\n",
       "emp_length                         object\n",
       "home_ownership                     object\n",
       "annual_inc                        float64\n",
       "verification_status                object\n",
       "issue_d                            object\n",
       "loan_status                        object\n",
       "purpose                            object\n",
       "title                              object\n",
       "zip_code                           object\n",
       "addr_state                         object\n",
       "dti                               float64\n",
       "delinq_2yrs                       float64\n",
       "earliest_cr_line                   object\n",
       "inq_last_6mths                    float64\n",
       "mths_since_last_delinq            float64\n",
       "mths_since_last_record            float64\n",
       "open_acc                          float64\n",
       "pub_rec                           float64\n",
       "revol_bal                         float64\n",
       "revol_util                         object\n",
       "total_acc                         float64\n",
       "initial_list_status                object\n",
       "total_pymnt                       float64\n",
       "last_credit_pull_d                 object\n",
       "collections_12_mths_ex_med        float64\n",
       "mths_since_last_major_derog       float64\n",
       "acc_now_delinq                    float64\n",
       "tot_coll_amt                      float64\n",
       "tot_cur_bal                       float64\n",
       "total_rev_hi_lim                  float64\n",
       "acc_open_past_24mths              float64\n",
       "avg_cur_bal                       float64\n",
       "bc_open_to_buy                    float64\n",
       "bc_util                           float64\n",
       "chargeoff_within_12_mths          float64\n",
       "delinq_amnt                       float64\n",
       "mo_sin_old_il_acct                float64\n",
       "mo_sin_old_rev_tl_op              float64\n",
       "mo_sin_rcnt_rev_tl_op             float64\n",
       "mo_sin_rcnt_tl                    float64\n",
       "mort_acc                          float64\n",
       "mths_since_recent_bc              float64\n",
       "mths_since_recent_bc_dlq          float64\n",
       "mths_since_recent_inq             float64\n",
       "mths_since_recent_revol_delinq    float64\n",
       "num_accts_ever_120_pd             float64\n",
       "num_actv_bc_tl                    float64\n",
       "num_actv_rev_tl                   float64\n",
       "num_bc_sats                       float64\n",
       "num_bc_tl                         float64\n",
       "num_il_tl                         float64\n",
       "num_op_rev_tl                     float64\n",
       "num_rev_accts                     float64\n",
       "num_rev_tl_bal_gt_0               float64\n",
       "num_sats                          float64\n",
       "num_tl_120dpd_2m                  float64\n",
       "num_tl_30dpd                      float64\n",
       "num_tl_90g_dpd_24m                float64\n",
       "num_tl_op_past_12m                float64\n",
       "pct_tl_nvr_dlq                    float64\n",
       "percent_bc_gt_75                  float64\n",
       "pub_rec_bankruptcies              float64\n",
       "tax_liens                         float64\n",
       "tot_hi_cred_lim                   float64\n",
       "total_bal_ex_mort                 float64\n",
       "total_bc_limit                    float64\n",
       "total_il_high_credit_limit        float64\n",
       "dtype: object"
      ]
     },
     "execution_count": 31,
     "metadata": {},
     "output_type": "execute_result"
    }
   ],
   "source": [
    "loans.dtypes"
   ]
  },
  {
   "cell_type": "markdown",
   "metadata": {},
   "source": [
    "The variables `issue_d`, `earliest_cr_line`, and `last_credit_pull_d` were read as strings but are dates. They will be converted to datetime variables."
   ]
  },
  {
   "cell_type": "code",
   "execution_count": 32,
   "metadata": {},
   "outputs": [],
   "source": [
    "date_vars = ['issue_d', 'earliest_cr_line', 'last_credit_pull_d']"
   ]
  },
  {
   "cell_type": "code",
   "execution_count": 33,
   "metadata": {},
   "outputs": [],
   "source": [
    "loans.loc[:, date_vars] = loans.loc[:, date_vars].apply(pd.to_datetime, errors='coerce') "
   ]
  },
  {
   "cell_type": "markdown",
   "metadata": {},
   "source": [
    "The variables `earliest_cr_line`, and `last_credit_pull_d` would make more sense converting to number of months or years of credit history or since the last credit pull."
   ]
  },
  {
   "cell_type": "code",
   "execution_count": 34,
   "metadata": {},
   "outputs": [
    {
     "data": {
      "text/plain": [
       "(183937, 73)"
      ]
     },
     "execution_count": 34,
     "metadata": {},
     "output_type": "execute_result"
    }
   ],
   "source": [
    "loans.shape"
   ]
  },
  {
   "cell_type": "code",
   "execution_count": 35,
   "metadata": {},
   "outputs": [],
   "source": [
    "loans['days_of_credit_hist'] = (loans['issue_d'] - loans['earliest_cr_line']).dt.days\n"
   ]
  },
  {
   "cell_type": "code",
   "execution_count": 36,
   "metadata": {},
   "outputs": [
    {
     "data": {
      "text/plain": [
       "(183937, 74)"
      ]
     },
     "execution_count": 36,
     "metadata": {},
     "output_type": "execute_result"
    }
   ],
   "source": [
    "loans.shape"
   ]
  },
  {
   "cell_type": "code",
   "execution_count": 37,
   "metadata": {},
   "outputs": [],
   "source": [
    "loans['days_since_last_cr_pull'] = (loans['issue_d'] - loans['last_credit_pull_d']).dt.days"
   ]
  },
  {
   "cell_type": "code",
   "execution_count": 38,
   "metadata": {},
   "outputs": [
    {
     "data": {
      "text/plain": [
       "(183937, 75)"
      ]
     },
     "execution_count": 38,
     "metadata": {},
     "output_type": "execute_result"
    }
   ],
   "source": [
    "loans.shape"
   ]
  },
  {
   "cell_type": "code",
   "execution_count": 39,
   "metadata": {},
   "outputs": [],
   "source": [
    "loans.drop(['earliest_cr_line', 'last_credit_pull_d'], axis = 1,  inplace = True)"
   ]
  },
  {
   "cell_type": "code",
   "execution_count": 40,
   "metadata": {},
   "outputs": [
    {
     "data": {
      "text/plain": [
       "(183937, 73)"
      ]
     },
     "execution_count": 40,
     "metadata": {},
     "output_type": "execute_result"
    }
   ],
   "source": [
    "loans.shape"
   ]
  },
  {
   "cell_type": "markdown",
   "metadata": {},
   "source": [
    "The variables `int_rate` and `revol_util` were read as objects, but should have been float 64."
   ]
  },
  {
   "cell_type": "code",
   "execution_count": 41,
   "metadata": {},
   "outputs": [
    {
     "name": "stdout",
     "output_type": "stream",
     "text": [
      "0     10.99%\n",
      "1     10.99%\n",
      "2      7.62%\n",
      "3     11.99%\n",
      "4      6.62%\n",
      "Name: int_rate, dtype: object\n",
      "0    61.2%\n",
      "1    16.1%\n",
      "2    55.7%\n",
      "3      67%\n",
      "4    21.6%\n",
      "Name: revol_util, dtype: object\n"
     ]
    }
   ],
   "source": [
    "print(loans.int_rate.head())\n",
    "print(loans.revol_util.head())"
   ]
  },
  {
   "cell_type": "markdown",
   "metadata": {},
   "source": [
    "The `int_rate` and `revol_util` variables were read with the percent symbol as a string. To correct this, I will remove the % symbol from the string and convert to numeric."
   ]
  },
  {
   "cell_type": "code",
   "execution_count": 42,
   "metadata": {},
   "outputs": [],
   "source": [
    "loans.int_rate = pd.to_numeric([x.strip('%') for x in loans.int_rate])"
   ]
  },
  {
   "cell_type": "code",
   "execution_count": 43,
   "metadata": {},
   "outputs": [],
   "source": [
    "loans.revol_util = pd.to_numeric([x.strip('%') for x in loans.revol_util])"
   ]
  },
  {
   "cell_type": "markdown",
   "metadata": {},
   "source": [
    "The variable `emp_length` was read as a string, but may make more sense as an integer."
   ]
  },
  {
   "cell_type": "code",
   "execution_count": 44,
   "metadata": {},
   "outputs": [
    {
     "data": {
      "text/plain": [
       "array(['10+ years', '2 years', '3 years', '4 years', '7 years', '5 years',\n",
       "       '6 years', '1 year', '8 years', '9 years', '< 1 year', nan],\n",
       "      dtype=object)"
      ]
     },
     "execution_count": 44,
     "metadata": {},
     "output_type": "execute_result"
    }
   ],
   "source": [
    "loans.emp_length.unique()"
   ]
  },
  {
   "cell_type": "markdown",
   "metadata": {},
   "source": [
    "Since it looks like everything greater than 10 years is grouped together as \"10+ years\", it makes more sense to leave this as a categorical variable since there is some built-in grouping.  I will replace the missing values with the string \"none\"."
   ]
  },
  {
   "cell_type": "code",
   "execution_count": 45,
   "metadata": {},
   "outputs": [],
   "source": [
    "loans['emp_length'] = loans['emp_length'].fillna('none')"
   ]
  },
  {
   "cell_type": "markdown",
   "metadata": {},
   "source": [
    "Next I want to look at variables with a large number of unique values.  These could be an indication of messy data that needs cleaned up."
   ]
  },
  {
   "cell_type": "code",
   "execution_count": 46,
   "metadata": {},
   "outputs": [],
   "source": [
    "high_unique = {}\n",
    "for col in loans.columns:\n",
    "    if len(loans[col].unique()) > 50:\n",
    "        if loans[col].dtype == 'O':\n",
    "            high_unique.update({col : len(loans[col].unique())})\n",
    "        "
   ]
  },
  {
   "cell_type": "code",
   "execution_count": 47,
   "metadata": {},
   "outputs": [
    {
     "data": {
      "text/plain": [
       "{'title': 44243, 'zip_code': 839}"
      ]
     },
     "execution_count": 47,
     "metadata": {},
     "output_type": "execute_result"
    }
   ],
   "source": [
    "high_unique"
   ]
  },
  {
   "cell_type": "markdown",
   "metadata": {},
   "source": [
    "There are two variables that have more than 50 unique values. "
   ]
  },
  {
   "cell_type": "code",
   "execution_count": 48,
   "metadata": {},
   "outputs": [
    {
     "data": {
      "text/html": [
       "<div>\n",
       "<style scoped>\n",
       "    .dataframe tbody tr th:only-of-type {\n",
       "        vertical-align: middle;\n",
       "    }\n",
       "\n",
       "    .dataframe tbody tr th {\n",
       "        vertical-align: top;\n",
       "    }\n",
       "\n",
       "    .dataframe thead th {\n",
       "        text-align: right;\n",
       "    }\n",
       "</style>\n",
       "<table border=\"1\" class=\"dataframe\">\n",
       "  <thead>\n",
       "    <tr style=\"text-align: right;\">\n",
       "      <th></th>\n",
       "      <th>title</th>\n",
       "      <th>purpose</th>\n",
       "    </tr>\n",
       "  </thead>\n",
       "  <tbody>\n",
       "    <tr>\n",
       "      <th>0</th>\n",
       "      <td>Debt Consolidation</td>\n",
       "      <td>debt_consolidation</td>\n",
       "    </tr>\n",
       "    <tr>\n",
       "      <th>1</th>\n",
       "      <td>For The House</td>\n",
       "      <td>home_improvement</td>\n",
       "    </tr>\n",
       "    <tr>\n",
       "      <th>2</th>\n",
       "      <td>Debt Consolidation and Credit Transfer</td>\n",
       "      <td>debt_consolidation</td>\n",
       "    </tr>\n",
       "    <tr>\n",
       "      <th>3</th>\n",
       "      <td>Debt consolidation</td>\n",
       "      <td>debt_consolidation</td>\n",
       "    </tr>\n",
       "    <tr>\n",
       "      <th>4</th>\n",
       "      <td>UNIVERSAL CARD</td>\n",
       "      <td>debt_consolidation</td>\n",
       "    </tr>\n",
       "    <tr>\n",
       "      <th>5</th>\n",
       "      <td>Debt Killer</td>\n",
       "      <td>debt_consolidation</td>\n",
       "    </tr>\n",
       "    <tr>\n",
       "      <th>6</th>\n",
       "      <td>Pay off</td>\n",
       "      <td>debt_consolidation</td>\n",
       "    </tr>\n",
       "    <tr>\n",
       "      <th>7</th>\n",
       "      <td>credit card</td>\n",
       "      <td>credit_card</td>\n",
       "    </tr>\n",
       "    <tr>\n",
       "      <th>8</th>\n",
       "      <td>Debt consolidation</td>\n",
       "      <td>debt_consolidation</td>\n",
       "    </tr>\n",
       "    <tr>\n",
       "      <th>9</th>\n",
       "      <td>Debt consolidation</td>\n",
       "      <td>debt_consolidation</td>\n",
       "    </tr>\n",
       "  </tbody>\n",
       "</table>\n",
       "</div>"
      ],
      "text/plain": [
       "                                    title             purpose\n",
       "0                      Debt Consolidation  debt_consolidation\n",
       "1                           For The House    home_improvement\n",
       "2  Debt Consolidation and Credit Transfer  debt_consolidation\n",
       "3                      Debt consolidation  debt_consolidation\n",
       "4                          UNIVERSAL CARD  debt_consolidation\n",
       "5                             Debt Killer  debt_consolidation\n",
       "6                                 Pay off  debt_consolidation\n",
       "7                             credit card         credit_card\n",
       "8                      Debt consolidation  debt_consolidation\n",
       "9                      Debt consolidation  debt_consolidation"
      ]
     },
     "execution_count": 48,
     "metadata": {},
     "output_type": "execute_result"
    }
   ],
   "source": [
    "loans[['title', 'purpose']].head(10)"
   ]
  },
  {
   "cell_type": "markdown",
   "metadata": {},
   "source": [
    "`title` is a text field that input by the applicant and is quite messy.  Fortunately, it has already been cleaned up in the `purpose` variables, and `title` can be dropped."
   ]
  },
  {
   "cell_type": "code",
   "execution_count": 49,
   "metadata": {},
   "outputs": [],
   "source": [
    "loans.drop('title', inplace = True, axis = 1)"
   ]
  },
  {
   "cell_type": "markdown",
   "metadata": {},
   "source": [
    "Next, I will look another look at the missing value counts."
   ]
  },
  {
   "cell_type": "code",
   "execution_count": 50,
   "metadata": {},
   "outputs": [
    {
     "data": {
      "text/plain": [
       "mths_since_last_delinq            105278\n",
       "mths_since_last_record            166803\n",
       "mths_since_last_major_derog       152223\n",
       "tot_coll_amt                       27709\n",
       "tot_cur_bal                        27709\n",
       "total_rev_hi_lim                   27709\n",
       "acc_open_past_24mths                7482\n",
       "avg_cur_bal                        27709\n",
       "bc_open_to_buy                      8884\n",
       "bc_util                             8955\n",
       "mo_sin_old_il_acct                 33740\n",
       "mo_sin_old_rev_tl_op               27709\n",
       "mo_sin_rcnt_rev_tl_op              27709\n",
       "mo_sin_rcnt_tl                     27709\n",
       "mort_acc                            7482\n",
       "mths_since_recent_bc                8706\n",
       "mths_since_recent_bc_dlq          148179\n",
       "mths_since_recent_inq              27271\n",
       "mths_since_recent_revol_delinq    130846\n",
       "num_accts_ever_120_pd              27709\n",
       "num_actv_bc_tl                     27709\n",
       "num_actv_rev_tl                    27709\n",
       "num_bc_sats                        16032\n",
       "num_bc_tl                          27709\n",
       "num_il_tl                          27709\n",
       "num_op_rev_tl                      27709\n",
       "num_rev_accts                      27709\n",
       "num_rev_tl_bal_gt_0                27709\n",
       "num_sats                           16032\n",
       "num_tl_120dpd_2m                   27961\n",
       "num_tl_30dpd                       27709\n",
       "num_tl_90g_dpd_24m                 27709\n",
       "num_tl_op_past_12m                 27709\n",
       "pct_tl_nvr_dlq                     27852\n",
       "percent_bc_gt_75                    8886\n",
       "tot_hi_cred_lim                    27709\n",
       "total_bal_ex_mort                   7482\n",
       "total_bc_limit                      7482\n",
       "total_il_high_credit_limit         27709\n",
       "dtype: int64"
      ]
     },
     "execution_count": 50,
     "metadata": {},
     "output_type": "execute_result"
    }
   ],
   "source": [
    "nulls = loans.isnull().sum()\n",
    "nulls[nulls > 0]"
   ]
  },
  {
   "cell_type": "markdown",
   "metadata": {},
   "source": [
    "Twenty variables have 27,709 null values.  This could indicate a time period in which these twenty variables were not collected. To test for this, I will create a list of column names which have 27,710 null values, and add the issue date variable `issue_d`.  Then I will sort by issue date, remove the rows that consist of all null values, and see what the ealiest issue date is in the resulting data."
   ]
  },
  {
   "cell_type": "code",
   "execution_count": 51,
   "metadata": {},
   "outputs": [],
   "source": [
    "null_cols = list((nulls[nulls == 27709]).index)"
   ]
  },
  {
   "cell_type": "code",
   "execution_count": 52,
   "metadata": {},
   "outputs": [],
   "source": [
    "null_cols_2 = list(null_cols)\n",
    "null_cols_2.append('issue_d')"
   ]
  },
  {
   "cell_type": "code",
   "execution_count": 53,
   "metadata": {},
   "outputs": [],
   "source": [
    "loans_by_date = loans.sort_values(by = 'issue_d', axis = 0, ascending = True)\n",
    "loans_by_date = loans_by_date[null_cols_2]"
   ]
  },
  {
   "cell_type": "code",
   "execution_count": 54,
   "metadata": {},
   "outputs": [
    {
     "data": {
      "text/plain": [
       "array(['2013-12-01T00:00:00.000000000', '2013-11-01T00:00:00.000000000',\n",
       "       '2013-10-01T00:00:00.000000000', '2013-09-01T00:00:00.000000000',\n",
       "       '2013-08-01T00:00:00.000000000', '2013-07-01T00:00:00.000000000',\n",
       "       '2013-06-01T00:00:00.000000000', '2013-05-01T00:00:00.000000000',\n",
       "       '2013-04-01T00:00:00.000000000', '2013-03-01T00:00:00.000000000',\n",
       "       '2013-02-01T00:00:00.000000000', '2013-01-01T00:00:00.000000000',\n",
       "       '2012-12-01T00:00:00.000000000', '2012-11-01T00:00:00.000000000',\n",
       "       '2012-10-01T00:00:00.000000000', '2012-09-01T00:00:00.000000000',\n",
       "       '2012-08-01T00:00:00.000000000', '2012-07-01T00:00:00.000000000',\n",
       "       '2012-06-01T00:00:00.000000000', '2012-05-01T00:00:00.000000000',\n",
       "       '2012-04-01T00:00:00.000000000', '2012-03-01T00:00:00.000000000',\n",
       "       '2012-02-01T00:00:00.000000000', '2012-01-01T00:00:00.000000000'],\n",
       "      dtype='datetime64[ns]')"
      ]
     },
     "execution_count": 54,
     "metadata": {},
     "output_type": "execute_result"
    }
   ],
   "source": [
    "loans.issue_d.unique()"
   ]
  },
  {
   "cell_type": "code",
   "execution_count": 55,
   "metadata": {},
   "outputs": [
    {
     "data": {
      "text/plain": [
       "(183937, 21)"
      ]
     },
     "execution_count": 55,
     "metadata": {},
     "output_type": "execute_result"
    }
   ],
   "source": [
    "loans_by_date.shape "
   ]
  },
  {
   "cell_type": "code",
   "execution_count": 56,
   "metadata": {},
   "outputs": [],
   "source": [
    "loans_by_date_2 = loans_by_date.dropna(axis = 'rows', subset = null_cols)"
   ]
  },
  {
   "cell_type": "code",
   "execution_count": 57,
   "metadata": {},
   "outputs": [
    {
     "data": {
      "text/plain": [
       "Timestamp('2012-08-01 00:00:00')"
      ]
     },
     "execution_count": 57,
     "metadata": {},
     "output_type": "execute_result"
    }
   ],
   "source": [
    "min(loans_by_date_2.issue_d)"
   ]
  },
  {
   "cell_type": "markdown",
   "metadata": {},
   "source": [
    "Removing the rows where all of the 20 columns are null results in removing all rows with an issue date prior to 08/1/2012, which means that there is no data for the first 7 out of 24 months of data for the 20 columns with 27,710 missing values. There are several opptions for dealing with this.\n",
    "\n",
    "First, I could impute the missing values.  This would allow these variables to remain but a fairly large proportion would be imputed.\n",
    "\n",
    "Second, I could just remove all rows of data prior to August 2012, which would discard a lot of good data but all variables would remain with a smaller proportion of imputed values.\n",
    "\n",
    "Third, I could just drop these 20 columns that are missing a large amount of data and only leave the columns where data was collected for the entire 2-year period.  \n",
    "\n",
    "The only way to know which method is best would be to try them all and see which provides the best results. Initially I will go with the second option, and remove the rows prior to August 2012. "
   ]
  },
  {
   "cell_type": "code",
   "execution_count": 58,
   "metadata": {},
   "outputs": [],
   "source": [
    "loans = loans[loans.issue_d >= '2012-08-01 00:00:00']"
   ]
  },
  {
   "cell_type": "code",
   "execution_count": 59,
   "metadata": {},
   "outputs": [
    {
     "data": {
      "text/plain": [
       "(160815, 72)"
      ]
     },
     "execution_count": 59,
     "metadata": {},
     "output_type": "execute_result"
    }
   ],
   "source": [
    "loans.shape"
   ]
  },
  {
   "cell_type": "code",
   "execution_count": 60,
   "metadata": {},
   "outputs": [
    {
     "data": {
      "text/plain": [
       "mths_since_last_delinq             89786\n",
       "mths_since_last_record            144382\n",
       "mths_since_last_major_derog       129101\n",
       "tot_coll_amt                        4587\n",
       "tot_cur_bal                         4587\n",
       "total_rev_hi_lim                    4587\n",
       "avg_cur_bal                         4587\n",
       "bc_open_to_buy                      1200\n",
       "bc_util                             1262\n",
       "mo_sin_old_il_acct                 10618\n",
       "mo_sin_old_rev_tl_op                4587\n",
       "mo_sin_rcnt_rev_tl_op               4587\n",
       "mo_sin_rcnt_tl                      4587\n",
       "mths_since_recent_bc                1042\n",
       "mths_since_recent_bc_dlq          125057\n",
       "mths_since_recent_inq              17628\n",
       "mths_since_recent_revol_delinq    111557\n",
       "num_accts_ever_120_pd               4587\n",
       "num_actv_bc_tl                      4587\n",
       "num_actv_rev_tl                     4587\n",
       "num_bc_tl                           4587\n",
       "num_il_tl                           4587\n",
       "num_op_rev_tl                       4587\n",
       "num_rev_accts                       4587\n",
       "num_rev_tl_bal_gt_0                 4587\n",
       "num_tl_120dpd_2m                    4839\n",
       "num_tl_30dpd                        4587\n",
       "num_tl_90g_dpd_24m                  4587\n",
       "num_tl_op_past_12m                  4587\n",
       "pct_tl_nvr_dlq                      4730\n",
       "percent_bc_gt_75                    1202\n",
       "tot_hi_cred_lim                     4587\n",
       "total_il_high_credit_limit          4587\n",
       "dtype: int64"
      ]
     },
     "execution_count": 60,
     "metadata": {},
     "output_type": "execute_result"
    }
   ],
   "source": [
    "nulls = loans.isnull().sum()\n",
    "nulls[nulls > 0]"
   ]
  },
  {
   "cell_type": "markdown",
   "metadata": {},
   "source": [
    "The 20 columns with the same count of null values still have null values, meaning that while data was being collected in these columns starting 08/01/12, there were still some rows since 8/1/12 with missing values. I will replace the missing values with the median for the remaining."
   ]
  },
  {
   "cell_type": "code",
   "execution_count": 61,
   "metadata": {},
   "outputs": [],
   "source": [
    "for col in null_cols:\n",
    "    loans[col].fillna(loans[col].median(), inplace = True)"
   ]
  },
  {
   "cell_type": "code",
   "execution_count": 62,
   "metadata": {},
   "outputs": [
    {
     "data": {
      "text/plain": [
       "mths_since_last_delinq             89786\n",
       "mths_since_last_record            144382\n",
       "mths_since_last_major_derog       129101\n",
       "bc_open_to_buy                      1200\n",
       "bc_util                             1262\n",
       "mo_sin_old_il_acct                 10618\n",
       "mths_since_recent_bc                1042\n",
       "mths_since_recent_bc_dlq          125057\n",
       "mths_since_recent_inq              17628\n",
       "mths_since_recent_revol_delinq    111557\n",
       "num_tl_120dpd_2m                    4839\n",
       "pct_tl_nvr_dlq                      4730\n",
       "percent_bc_gt_75                    1202\n",
       "dtype: int64"
      ]
     },
     "execution_count": 62,
     "metadata": {},
     "output_type": "execute_result"
    }
   ],
   "source": [
    "nulls = loans.isnull().sum()\n",
    "nulls[nulls > 0]"
   ]
  },
  {
   "cell_type": "markdown",
   "metadata": {},
   "source": [
    "There are a few variables that represent months since a delinquency occured, such as months since there was a delinquancy on revolving credit. In these cases, I suspect that missing values represent loans where the applicant hasn't had the delinquency, which is meaningful but is something that can't be represented numerically like the number of months.  Therefore, I think the best approach is to make this a categorical variable.\n"
   ]
  },
  {
   "cell_type": "code",
   "execution_count": 63,
   "metadata": {},
   "outputs": [
    {
     "data": {
      "text/plain": [
       "0      NaN\n",
       "1      NaN\n",
       "2      NaN\n",
       "3      NaN\n",
       "4     43.0\n",
       "5      NaN\n",
       "6     34.0\n",
       "7      NaN\n",
       "8     53.0\n",
       "9     16.0\n",
       "10    64.0\n",
       "11    11.0\n",
       "Name: mths_since_last_delinq, dtype: float64"
      ]
     },
     "execution_count": 63,
     "metadata": {},
     "output_type": "execute_result"
    }
   ],
   "source": [
    "loans['mths_since_last_delinq'].head(12)"
   ]
  },
  {
   "cell_type": "code",
   "execution_count": 64,
   "metadata": {},
   "outputs": [],
   "source": [
    "cut_points = [0, 24, 48, 72, 1000]"
   ]
  },
  {
   "cell_type": "code",
   "execution_count": 65,
   "metadata": {},
   "outputs": [],
   "source": [
    "labels = [\"1-2 years\", \"2-4 years\", \"4-6 years\", \"Over 6 years\"]"
   ]
  },
  {
   "cell_type": "code",
   "execution_count": 66,
   "metadata": {},
   "outputs": [],
   "source": [
    "loans['mths_since_last_delinq'] = pd.cut(loans['mths_since_last_delinq'], bins = cut_points, labels = labels)"
   ]
  },
  {
   "cell_type": "code",
   "execution_count": 67,
   "metadata": {},
   "outputs": [],
   "source": [
    "loans['mths_since_last_delinq'] = loans['mths_since_last_delinq'].cat.add_categories(['none'])\n",
    "loans['mths_since_last_delinq'] = loans['mths_since_last_delinq'].fillna('none')"
   ]
  },
  {
   "cell_type": "code",
   "execution_count": 68,
   "metadata": {},
   "outputs": [
    {
     "data": {
      "text/plain": [
       "0          none\n",
       "1          none\n",
       "2          none\n",
       "3          none\n",
       "4     2-4 years\n",
       "5          none\n",
       "6     2-4 years\n",
       "7          none\n",
       "8     4-6 years\n",
       "9     1-2 years\n",
       "10    4-6 years\n",
       "11    1-2 years\n",
       "Name: mths_since_last_delinq, dtype: category\n",
       "Categories (5, object): [1-2 years < 2-4 years < 4-6 years < Over 6 years < none]"
      ]
     },
     "execution_count": 68,
     "metadata": {},
     "output_type": "execute_result"
    }
   ],
   "source": [
    "loans['mths_since_last_delinq'].head(12)"
   ]
  },
  {
   "cell_type": "code",
   "execution_count": 69,
   "metadata": {},
   "outputs": [
    {
     "data": {
      "text/plain": [
       "none            89906\n",
       "1-2 years       27553\n",
       "2-4 years       24864\n",
       "4-6 years       13721\n",
       "Over 6 years     4771\n",
       "Name: mths_since_last_delinq, dtype: int64"
      ]
     },
     "execution_count": 69,
     "metadata": {},
     "output_type": "execute_result"
    }
   ],
   "source": [
    "loans['mths_since_last_delinq'].value_counts()"
   ]
  },
  {
   "cell_type": "markdown",
   "metadata": {},
   "source": [
    "The binning worked where there is values, but the missing values remain.  I will convert the other delinquency variables to categorical, and then replace the missing values with the category 'none'."
   ]
  },
  {
   "cell_type": "code",
   "execution_count": 70,
   "metadata": {},
   "outputs": [],
   "source": [
    "loans['mths_since_last_record'] = pd.cut(loans['mths_since_last_record'], bins = cut_points, labels = labels)"
   ]
  },
  {
   "cell_type": "code",
   "execution_count": 71,
   "metadata": {},
   "outputs": [],
   "source": [
    "loans['mths_since_last_record'] = loans['mths_since_last_record'].cat.add_categories(['none'])\n",
    "loans['mths_since_last_record'] = loans['mths_since_last_record'].fillna('none')"
   ]
  },
  {
   "cell_type": "code",
   "execution_count": 72,
   "metadata": {},
   "outputs": [],
   "source": [
    "loans['mths_since_last_major_derog'] = pd.cut(loans['mths_since_last_major_derog'], bins = cut_points, labels = labels)"
   ]
  },
  {
   "cell_type": "code",
   "execution_count": 73,
   "metadata": {},
   "outputs": [],
   "source": [
    "loans['mths_since_last_major_derog'] = loans['mths_since_last_major_derog'].cat.add_categories(['none'])\n",
    "loans['mths_since_last_major_derog'] = loans['mths_since_last_major_derog'].fillna('none')"
   ]
  },
  {
   "cell_type": "code",
   "execution_count": 74,
   "metadata": {},
   "outputs": [],
   "source": [
    "loans['mths_since_recent_bc_dlq'] = pd.cut(loans['mths_since_recent_bc_dlq'], bins = cut_points, labels = labels)"
   ]
  },
  {
   "cell_type": "code",
   "execution_count": 75,
   "metadata": {},
   "outputs": [],
   "source": [
    "loans['mths_since_recent_bc_dlq'] = loans['mths_since_recent_bc_dlq'].cat.add_categories(['none'])\n",
    "loans['mths_since_recent_bc_dlq'] = loans['mths_since_recent_bc_dlq'].fillna('none')"
   ]
  },
  {
   "cell_type": "code",
   "execution_count": 76,
   "metadata": {},
   "outputs": [],
   "source": [
    "loans['mths_since_recent_revol_delinq'] = pd.cut(loans['mths_since_recent_revol_delinq'], bins = cut_points, labels = labels)"
   ]
  },
  {
   "cell_type": "code",
   "execution_count": 77,
   "metadata": {},
   "outputs": [],
   "source": [
    "loans['mths_since_recent_revol_delinq'] = loans['mths_since_recent_revol_delinq'].cat.add_categories(['none'])\n",
    "loans['mths_since_recent_revol_delinq'] = loans['mths_since_recent_revol_delinq'].fillna('none')"
   ]
  },
  {
   "cell_type": "code",
   "execution_count": 78,
   "metadata": {
    "scrolled": true
   },
   "outputs": [
    {
     "data": {
      "text/plain": [
       "none            144382\n",
       "Over 6 years     11877\n",
       "4-6 years         2590\n",
       "2-4 years         1496\n",
       "1-2 years          470\n",
       "Name: mths_since_last_record, dtype: int64"
      ]
     },
     "execution_count": 78,
     "metadata": {},
     "output_type": "execute_result"
    }
   ],
   "source": [
    "loans['mths_since_last_record'].value_counts()"
   ]
  },
  {
   "cell_type": "code",
   "execution_count": 79,
   "metadata": {},
   "outputs": [
    {
     "data": {
      "text/plain": [
       "none            129124\n",
       "2-4 years        12369\n",
       "4-6 years         8871\n",
       "1-2 years         7592\n",
       "Over 6 years      2859\n",
       "Name: mths_since_last_major_derog, dtype: int64"
      ]
     },
     "execution_count": 79,
     "metadata": {},
     "output_type": "execute_result"
    }
   ],
   "source": [
    "loans['mths_since_last_major_derog'].value_counts()"
   ]
  },
  {
   "cell_type": "code",
   "execution_count": 80,
   "metadata": {},
   "outputs": [
    {
     "data": {
      "text/plain": [
       "none            125105\n",
       "2-4 years        13013\n",
       "1-2 years         9753\n",
       "4-6 years         9604\n",
       "Over 6 years      3340\n",
       "Name: mths_since_recent_bc_dlq, dtype: int64"
      ]
     },
     "execution_count": 80,
     "metadata": {},
     "output_type": "execute_result"
    }
   ],
   "source": [
    "loans['mths_since_recent_bc_dlq'].value_counts()"
   ]
  },
  {
   "cell_type": "code",
   "execution_count": 81,
   "metadata": {},
   "outputs": [
    {
     "data": {
      "text/plain": [
       "none            111638\n",
       "2-4 years        17659\n",
       "1-2 years        17517\n",
       "4-6 years        10383\n",
       "Over 6 years      3618\n",
       "Name: mths_since_recent_revol_delinq, dtype: int64"
      ]
     },
     "execution_count": 81,
     "metadata": {},
     "output_type": "execute_result"
    }
   ],
   "source": [
    "loans['mths_since_recent_revol_delinq'].value_counts()"
   ]
  },
  {
   "cell_type": "markdown",
   "metadata": {},
   "source": [
    "For the remaining variables with missing values, I will replace the missing values with the median."
   ]
  },
  {
   "cell_type": "code",
   "execution_count": 82,
   "metadata": {},
   "outputs": [],
   "source": [
    "\n",
    "replace_with_median = [\n",
    "'bc_open_to_buy',\n",
    "'bc_util',\n",
    "'mo_sin_old_il_acct',\n",
    "'mths_since_recent_bc',\n",
    "'mths_since_recent_inq',\n",
    "'num_tl_120dpd_2m', \n",
    "'pct_tl_nvr_dlq',\n",
    "'percent_bc_gt_75']\n",
    "for col in replace_with_median:\n",
    "    loans[col].fillna(loans[col].median(), inplace = True)"
   ]
  },
  {
   "cell_type": "code",
   "execution_count": 83,
   "metadata": {},
   "outputs": [
    {
     "data": {
      "text/plain": [
       "Series([], dtype: int64)"
      ]
     },
     "execution_count": 83,
     "metadata": {},
     "output_type": "execute_result"
    }
   ],
   "source": [
    "#Check to see if there are any more missing values.\n",
    "nulls = loans.isnull().sum()\n",
    "nulls[nulls > 0]"
   ]
  },
  {
   "cell_type": "markdown",
   "metadata": {},
   "source": [
    "There are no remaining null values.  Since the manually-binned variables are of the 'category' type, I will convert the remaining categorical variables, which are of the 'object' type, to 'category' type.\n",
    "\n"
   ]
  },
  {
   "cell_type": "code",
   "execution_count": 84,
   "metadata": {},
   "outputs": [],
   "source": [
    "dtypes = loans.dtypes\n",
    "object_vars = list(dtypes[dtypes == 'object'].index)"
   ]
  },
  {
   "cell_type": "code",
   "execution_count": 85,
   "metadata": {},
   "outputs": [],
   "source": [
    "loans[object_vars] = loans[object_vars].astype('category')"
   ]
  },
  {
   "cell_type": "code",
   "execution_count": 86,
   "metadata": {},
   "outputs": [
    {
     "data": {
      "text/plain": [
       "funded_amnt                              float64\n",
       "term                                    category\n",
       "int_rate                                 float64\n",
       "installment                              float64\n",
       "grade                                   category\n",
       "sub_grade                               category\n",
       "emp_length                              category\n",
       "home_ownership                          category\n",
       "annual_inc                               float64\n",
       "verification_status                     category\n",
       "issue_d                           datetime64[ns]\n",
       "loan_status                             category\n",
       "purpose                                 category\n",
       "zip_code                                category\n",
       "addr_state                              category\n",
       "dti                                      float64\n",
       "delinq_2yrs                              float64\n",
       "inq_last_6mths                           float64\n",
       "mths_since_last_delinq                  category\n",
       "mths_since_last_record                  category\n",
       "open_acc                                 float64\n",
       "pub_rec                                  float64\n",
       "revol_bal                                float64\n",
       "revol_util                               float64\n",
       "total_acc                                float64\n",
       "initial_list_status                     category\n",
       "total_pymnt                              float64\n",
       "collections_12_mths_ex_med               float64\n",
       "mths_since_last_major_derog             category\n",
       "acc_now_delinq                           float64\n",
       "tot_coll_amt                             float64\n",
       "tot_cur_bal                              float64\n",
       "total_rev_hi_lim                         float64\n",
       "acc_open_past_24mths                     float64\n",
       "avg_cur_bal                              float64\n",
       "bc_open_to_buy                           float64\n",
       "bc_util                                  float64\n",
       "chargeoff_within_12_mths                 float64\n",
       "delinq_amnt                              float64\n",
       "mo_sin_old_il_acct                       float64\n",
       "mo_sin_old_rev_tl_op                     float64\n",
       "mo_sin_rcnt_rev_tl_op                    float64\n",
       "mo_sin_rcnt_tl                           float64\n",
       "mort_acc                                 float64\n",
       "mths_since_recent_bc                     float64\n",
       "mths_since_recent_bc_dlq                category\n",
       "mths_since_recent_inq                    float64\n",
       "mths_since_recent_revol_delinq          category\n",
       "num_accts_ever_120_pd                    float64\n",
       "num_actv_bc_tl                           float64\n",
       "num_actv_rev_tl                          float64\n",
       "num_bc_sats                              float64\n",
       "num_bc_tl                                float64\n",
       "num_il_tl                                float64\n",
       "num_op_rev_tl                            float64\n",
       "num_rev_accts                            float64\n",
       "num_rev_tl_bal_gt_0                      float64\n",
       "num_sats                                 float64\n",
       "num_tl_120dpd_2m                         float64\n",
       "num_tl_30dpd                             float64\n",
       "num_tl_90g_dpd_24m                       float64\n",
       "num_tl_op_past_12m                       float64\n",
       "pct_tl_nvr_dlq                           float64\n",
       "percent_bc_gt_75                         float64\n",
       "pub_rec_bankruptcies                     float64\n",
       "tax_liens                                float64\n",
       "tot_hi_cred_lim                          float64\n",
       "total_bal_ex_mort                        float64\n",
       "total_bc_limit                           float64\n",
       "total_il_high_credit_limit               float64\n",
       "days_of_credit_hist                        int64\n",
       "days_since_last_cr_pull                    int64\n",
       "dtype: object"
      ]
     },
     "execution_count": 86,
     "metadata": {},
     "output_type": "execute_result"
    }
   ],
   "source": [
    "loans.dtypes"
   ]
  },
  {
   "cell_type": "code",
   "execution_count": 87,
   "metadata": {},
   "outputs": [],
   "source": [
    "loans.to_csv('loans_clean.csv', index = False)"
   ]
  }
 ],
 "metadata": {
  "kernelspec": {
   "display_name": "Python 3",
   "language": "python",
   "name": "python3"
  },
  "language_info": {
   "codemirror_mode": {
    "name": "ipython",
    "version": 3
   },
   "file_extension": ".py",
   "mimetype": "text/x-python",
   "name": "python",
   "nbconvert_exporter": "python",
   "pygments_lexer": "ipython3",
   "version": "3.6.6"
  }
 },
 "nbformat": 4,
 "nbformat_minor": 2
}
