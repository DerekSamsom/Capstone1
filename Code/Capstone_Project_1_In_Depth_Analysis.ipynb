{
 "cells": [
  {
   "cell_type": "markdown",
   "metadata": {},
   "source": [
    "## In-Depth Analysis/ Machine Learning\n",
    "\n",
    "## Capstone Project 1: Lending Club Data - Predicting Return on Investment for Investors"
   ]
  },
  {
   "cell_type": "code",
   "execution_count": 1,
   "metadata": {},
   "outputs": [],
   "source": [
    "import pandas as pd\n",
    "from datetime import datetime\n",
    "import numpy as np\n",
    "import matplotlib.pyplot as plt\n",
    "import seaborn as sns\n",
    "import scipy.stats as stats"
   ]
  },
  {
   "cell_type": "markdown",
   "metadata": {},
   "source": [
    "#### Load Data and Prepare for Modelling"
   ]
  },
  {
   "cell_type": "markdown",
   "metadata": {},
   "source": [
    "First I will load the data and prepare it for modelling.  I will create the depended variable, ROI, create dummies for the categorical variables, and scale the data numerical data.   I will also split the data into train, validation, and test sets."
   ]
  },
  {
   "cell_type": "code",
   "execution_count": 3,
   "metadata": {},
   "outputs": [],
   "source": [
    "loans = pd.read_csv('loans_clean.csv')"
   ]
  },
  {
   "cell_type": "code",
   "execution_count": 4,
   "metadata": {},
   "outputs": [],
   "source": [
    "dtypes = loans.dtypes\n",
    "object_vars = list(dtypes[dtypes == 'object'].index)\n",
    "int_vars = list(dtypes[dtypes == 'int64'].index)\n",
    "loans[object_vars] = loans[object_vars].astype('category')\n",
    "loans[int_vars] = loans[int_vars].astype('float64')\n",
    "loans['roi'] = (loans['total_pymnt'] - loans['funded_amnt']) / loans['funded_amnt']"
   ]
  },
  {
   "cell_type": "code",
   "execution_count": 5,
   "metadata": {},
   "outputs": [],
   "source": [
    "high_corr = ['num_actv_rev_tl', 'tot_cur_bal', 'open_acc', 'installment']\n",
    "drop_cols = ['zip_code', 'issue_d', 'total_pymnt', 'sub_grade', 'loan_status']"
   ]
  },
  {
   "cell_type": "code",
   "execution_count": 6,
   "metadata": {},
   "outputs": [],
   "source": [
    "loans.drop(high_corr, axis = 1, inplace = True)\n",
    "loans.drop(drop_cols, axis = 1, inplace = True)"
   ]
  },
  {
   "cell_type": "code",
   "execution_count": 7,
   "metadata": {},
   "outputs": [],
   "source": [
    "from sklearn.preprocessing import StandardScaler\n",
    "X = loans.drop('roi', axis = 1)\n",
    "y = loans['roi']\n",
    "num_vars = X.select_dtypes(include = 'number')\n",
    "cat_vars = X.select_dtypes(include = 'category')\n",
    "cat_vars_dummy = pd.get_dummies(cat_vars, drop_first = True)\n",
    "\n",
    "scaler = StandardScaler()\n",
    "\n",
    "num_vars_scaled = pd.DataFrame(scaler.fit_transform(num_vars), columns= num_vars.columns)\n",
    "\n",
    "X = pd.concat([cat_vars_dummy, num_vars_scaled], axis = 1)"
   ]
  },
  {
   "cell_type": "markdown",
   "metadata": {},
   "source": [
    "#### Split Data into Train, Validaton, and  Test Data"
   ]
  },
  {
   "cell_type": "code",
   "execution_count": 7,
   "metadata": {},
   "outputs": [],
   "source": [
    "from sklearn.model_selection import train_test_split"
   ]
  },
  {
   "cell_type": "code",
   "execution_count": 8,
   "metadata": {},
   "outputs": [],
   "source": [
    "X_intermediate, X_test, y_intermediate, y_test = train_test_split(X, y, test_size = 0.2, random_state = 42)\n",
    "\n",
    "X_train, X_validation, y_train, y_validation = train_test_split(X_intermediate, y_intermediate, test_size = 0.25, random_state = 42)"
   ]
  },
  {
   "cell_type": "code",
   "execution_count": 9,
   "metadata": {},
   "outputs": [
    {
     "name": "stdout",
     "output_type": "stream",
     "text": [
      "(96489, 146)\n",
      "(32163, 146)\n",
      "(32163, 146)\n"
     ]
    }
   ],
   "source": [
    "print(X_train.shape)\n",
    "print(X_validation.shape)\n",
    "print(X_test.shape)"
   ]
  },
  {
   "cell_type": "markdown",
   "metadata": {},
   "source": [
    "## Modeling"
   ]
  },
  {
   "cell_type": "markdown",
   "metadata": {},
   "source": [
    "The data was split into train, validation, and test sets, as I plan to use the validation set for hyperparameter tuning rather than cross-validation due to the size of the data set and computational limitations."
   ]
  },
  {
   "cell_type": "markdown",
   "metadata": {},
   "source": [
    "First I will run a linear regression, random forest, and gradient boosting model with the defaults and no tuning to get some baseline scores.\n",
    "\n",
    "I will evaluate performance based on the following metrics:\n",
    "\n",
    " - Validation Scores (R^2)\n",
    "\n",
    " - Mean Absolute Error (MAE)\n",
    "\n",
    " - Root Mean Squared Error (RMSE)\n",
    "\n",
    " - Residual plot and histogram.\n",
    " \n",
    " - Residuals 90th Percentile\n",
    " \n",
    "I expect it to be difficult to get a high R-squared value predicting ROI for several reasons.  First, since I am predicting the ROI instead of the dollar amount repaid, I will not have the original loan amount as a strong predictor. By predicting the ROI instead of the amount repaid, I am taking away the given that a larger loan is expected to have a higher repayment amount, and reducing the prediction to the profitability of the loan as a percentage of the original loan amount.\n",
    "\n",
    "Second, there is an inherent difficulty in predicting exactly which loans will have a poor ROI score, as there is a randomness to the actual causes of a poor score, such as the borrower not repaying their loan due to losing their job.  In the case of job loss resulting in a defaulting loan with a poor ROI, I expect it to be difficult to predict precisely which loans that will happen to, but hopefully the model will still reduce the risk by assigning a lower prediction for the loans that are more likely to perform poorly.\n",
    "\n",
    "Despite the challenges in achiving a high score, even a lower score should allow the investor to choose more profitable loans than with no model at all.\n",
    "\n",
    "I'll create a function to calculate the 90th percentile of the residuals."
   ]
  },
  {
   "cell_type": "code",
   "execution_count": 10,
   "metadata": {},
   "outputs": [],
   "source": [
    "def calculate_residual_percentile(pred, actual, percentile):\n",
    "    \"\"\"Calculate percentile bounds of positive and negative residuals\"\"\"\n",
    "    import numpy as np\n",
    "    resid = actual - pred\n",
    "    \n",
    "    #Create Positive and Negative Condition Arrays\n",
    "    condition_pos = resid > 0\n",
    "    condition_neg = resid < 0\n",
    "    \n",
    "    #Create arrays for positive and negative residuals\n",
    "    pos_residuals = np.extract(condition_pos, resid)\n",
    "    neg_residuals = np.extract(condition_neg, resid)\n",
    "    \n",
    "    #Calculate Percentile\n",
    "    pos_percentile = np.percentile(pos_residuals, percentile)\n",
    "    neg_percentile = np.percentile(neg_residuals, 100-percentile)\n",
    "    pos_percentile = round(pos_percentile,4)\n",
    "    neg_percentile = round(neg_percentile,4)\n",
    "    return neg_percentile, pos_percentile"
   ]
  },
  {
   "cell_type": "markdown",
   "metadata": {},
   "source": [
    "## Baseline Models"
   ]
  },
  {
   "cell_type": "markdown",
   "metadata": {},
   "source": [
    "First, I will run the three models with just the default parameters to get baseline scores. "
   ]
  },
  {
   "cell_type": "markdown",
   "metadata": {},
   "source": [
    "#### Linear Regression"
   ]
  },
  {
   "cell_type": "code",
   "execution_count": 11,
   "metadata": {},
   "outputs": [
    {
     "data": {
      "text/plain": [
       "LinearRegression(copy_X=True, fit_intercept=True, n_jobs=None,\n",
       "         normalize=False)"
      ]
     },
     "execution_count": 11,
     "metadata": {},
     "output_type": "execute_result"
    }
   ],
   "source": [
    "from sklearn.linear_model import LinearRegression\n",
    "\n",
    "lr = LinearRegression()\n",
    "lr.fit(X_train, y_train)"
   ]
  },
  {
   "cell_type": "code",
   "execution_count": 12,
   "metadata": {},
   "outputs": [
    {
     "data": {
      "text/plain": [
       "0.12529209422511198"
      ]
     },
     "execution_count": 12,
     "metadata": {},
     "output_type": "execute_result"
    }
   ],
   "source": [
    "lr.intercept_"
   ]
  },
  {
   "cell_type": "code",
   "execution_count": 13,
   "metadata": {
    "scrolled": true
   },
   "outputs": [
    {
     "data": {
      "text/html": [
       "<div>\n",
       "<style scoped>\n",
       "    .dataframe tbody tr th:only-of-type {\n",
       "        vertical-align: middle;\n",
       "    }\n",
       "\n",
       "    .dataframe tbody tr th {\n",
       "        vertical-align: top;\n",
       "    }\n",
       "\n",
       "    .dataframe thead th {\n",
       "        text-align: right;\n",
       "    }\n",
       "</style>\n",
       "<table border=\"1\" class=\"dataframe\">\n",
       "  <thead>\n",
       "    <tr style=\"text-align: right;\">\n",
       "      <th></th>\n",
       "      <th>Coefficient</th>\n",
       "      <th>Abs_Coefficient</th>\n",
       "    </tr>\n",
       "  </thead>\n",
       "  <tbody>\n",
       "    <tr>\n",
       "      <th>addr_state_UT</th>\n",
       "      <td>-0.056660</td>\n",
       "      <td>0.056660</td>\n",
       "    </tr>\n",
       "    <tr>\n",
       "      <th>addr_state_NV</th>\n",
       "      <td>-0.051905</td>\n",
       "      <td>0.051905</td>\n",
       "    </tr>\n",
       "    <tr>\n",
       "      <th>purpose_small_business</th>\n",
       "      <td>-0.046988</td>\n",
       "      <td>0.046988</td>\n",
       "    </tr>\n",
       "    <tr>\n",
       "      <th>addr_state_NJ</th>\n",
       "      <td>-0.046298</td>\n",
       "      <td>0.046298</td>\n",
       "    </tr>\n",
       "    <tr>\n",
       "      <th>addr_state_NY</th>\n",
       "      <td>-0.042119</td>\n",
       "      <td>0.042119</td>\n",
       "    </tr>\n",
       "    <tr>\n",
       "      <th>addr_state_CT</th>\n",
       "      <td>-0.041899</td>\n",
       "      <td>0.041899</td>\n",
       "    </tr>\n",
       "    <tr>\n",
       "      <th>addr_state_FL</th>\n",
       "      <td>-0.041514</td>\n",
       "      <td>0.041514</td>\n",
       "    </tr>\n",
       "    <tr>\n",
       "      <th>addr_state_TN</th>\n",
       "      <td>-0.041441</td>\n",
       "      <td>0.041441</td>\n",
       "    </tr>\n",
       "    <tr>\n",
       "      <th>addr_state_NM</th>\n",
       "      <td>-0.040435</td>\n",
       "      <td>0.040435</td>\n",
       "    </tr>\n",
       "    <tr>\n",
       "      <th>addr_state_MI</th>\n",
       "      <td>-0.040355</td>\n",
       "      <td>0.040355</td>\n",
       "    </tr>\n",
       "  </tbody>\n",
       "</table>\n",
       "</div>"
      ],
      "text/plain": [
       "                        Coefficient  Abs_Coefficient\n",
       "addr_state_UT             -0.056660         0.056660\n",
       "addr_state_NV             -0.051905         0.051905\n",
       "purpose_small_business    -0.046988         0.046988\n",
       "addr_state_NJ             -0.046298         0.046298\n",
       "addr_state_NY             -0.042119         0.042119\n",
       "addr_state_CT             -0.041899         0.041899\n",
       "addr_state_FL             -0.041514         0.041514\n",
       "addr_state_TN             -0.041441         0.041441\n",
       "addr_state_NM             -0.040435         0.040435\n",
       "addr_state_MI             -0.040355         0.040355"
      ]
     },
     "execution_count": 13,
     "metadata": {},
     "output_type": "execute_result"
    }
   ],
   "source": [
    "df_coefs = pd.DataFrame(lr.coef_, index=X.columns, columns = ['Coefficient'])\n",
    "df_coefs['Abs_Coefficient'] = abs(df_coefs.Coefficient)\n",
    "df_coefs.sort_values('Abs_Coefficient', ascending = False).head(10)\n",
    "    "
   ]
  },
  {
   "cell_type": "code",
   "execution_count": 14,
   "metadata": {},
   "outputs": [],
   "source": [
    "from sklearn.metrics import mean_squared_error\n",
    "\n",
    "lr_predictions = lr.predict(X_validation)\n",
    "lr_train_score = lr.score(X_train, y_train)\n",
    "lr_validation_score = lr.score(X_validation, y_validation)\n",
    "lr_mae = np.mean(abs(lr_predictions - y_validation))\n",
    "lr_rmse = np.sqrt(mean_squared_error(y_validation, lr_predictions))"
   ]
  },
  {
   "cell_type": "code",
   "execution_count": 15,
   "metadata": {
    "scrolled": true
   },
   "outputs": [
    {
     "name": "stdout",
     "output_type": "stream",
     "text": [
      "Base Linear Regression Train Score:       0.04884080017731684\n",
      "Base Linear Regression Validation Score:  0.04731168637184946\n",
      "Base Linear Regression MAE:               0.16368174500533897\n",
      "Base Linear Regression RMSE:              0.2555979396257154\n"
     ]
    }
   ],
   "source": [
    "print('Base Linear Regression Train Score:      ', lr_train_score)\n",
    "print('Base Linear Regression Validation Score: ', lr_validation_score)\n",
    "print('Base Linear Regression MAE:              ',lr_mae)\n",
    "print('Base Linear Regression RMSE:             ',lr_rmse)"
   ]
  },
  {
   "cell_type": "markdown",
   "metadata": {},
   "source": [
    "The base linear regression model has a validation score of 0.047, which isn pretty low."
   ]
  },
  {
   "cell_type": "code",
   "execution_count": 16,
   "metadata": {},
   "outputs": [
    {
     "data": {
      "image/png": "[encoded data removed]",
      "text/plain": [
       "<Figure size 432x288 with 1 Axes>"
      ]
     },
     "metadata": {
      "needs_background": "light"
     },
     "output_type": "display_data"
    }
   ],
   "source": [
    "sns.residplot(x = lr_predictions, y = y_validation - lr_predictions)\n",
    "plt.title('Residuals, Linear Regression Base Model', size = 12)\n",
    "plt.ylabel('Residuals', size = 10)\n",
    "plt.xlabel('Predicted ROI', size = 10)\n",
    "plt.show()"
   ]
  },
  {
   "cell_type": "code",
   "execution_count": 17,
   "metadata": {},
   "outputs": [
    {
     "data": {
      "image/png": "[encoded data removed]",
      "text/plain": [
       "<Figure size 432x288 with 1 Axes>"
      ]
     },
     "metadata": {
      "needs_background": "light"
     },
     "output_type": "display_data"
    }
   ],
   "source": [
    "plt.hist(y_validation - lr_predictions, bins = np.arange(-1.5, 1, 0.1))\n",
    "plt.title('Residual Distribution, Linear Regression Base Model', size = 12)\n",
    "plt.ylabel('Residuals', size = 10)\n",
    "plt.xlabel('Predicted ROI', size = 10)\n",
    "plt.show()"
   ]
  },
  {
   "cell_type": "code",
   "execution_count": 18,
   "metadata": {},
   "outputs": [
    {
     "name": "stdout",
     "output_type": "stream",
     "text": [
      "Base Linear Regression Residuals, 90th percentile:  (-0.7594, 0.2355)\n"
     ]
    }
   ],
   "source": [
    "lr_90_percentile = calculate_residual_percentile(lr_predictions, y_validation ,90)\n",
    "print('Base Linear Regression Residuals, 90th percentile: ', lr_90_percentile)"
   ]
  },
  {
   "cell_type": "markdown",
   "metadata": {},
   "source": [
    "The residuals are centered above zero and have a long tail towards the negative side. This long tail represents the loans that have a low ROI that isnt being picked up by the model. 90 percent of the resisuals fall within an ROI range between -75.94% and 23.546%."
   ]
  },
  {
   "cell_type": "markdown",
   "metadata": {},
   "source": [
    "#### Random Forest"
   ]
  },
  {
   "cell_type": "code",
   "execution_count": 19,
   "metadata": {},
   "outputs": [
    {
     "data": {
      "text/plain": [
       "RandomForestRegressor(bootstrap=True, criterion='mse', max_depth=None,\n",
       "           max_features='auto', max_leaf_nodes=None,\n",
       "           min_impurity_decrease=0.0, min_impurity_split=None,\n",
       "           min_samples_leaf=1, min_samples_split=2,\n",
       "           min_weight_fraction_leaf=0.0, n_estimators=100, n_jobs=-1,\n",
       "           oob_score=True, random_state=42, verbose=0, warm_start=False)"
      ]
     },
     "execution_count": 19,
     "metadata": {},
     "output_type": "execute_result"
    }
   ],
   "source": [
    "from sklearn.ensemble import RandomForestRegressor\n",
    "\n",
    "rf = RandomForestRegressor(n_jobs = -1, n_estimators = 100, random_state = 42, oob_score = True)\n",
    "rf.fit(X_train, y_train)"
   ]
  },
  {
   "cell_type": "code",
   "execution_count": 20,
   "metadata": {},
   "outputs": [],
   "source": [
    "rf_predictions = rf.predict(X_validation)\n",
    "rf_train_score = rf.score(X_train, y_train)\n",
    "rf_validation_score = rf.score(X_validation, y_validation)\n",
    "rf_mae = np.mean(abs(rf_predictions - y_validation))\n",
    "rf_rmse = np.sqrt(mean_squared_error(y_validation, rf_predictions))"
   ]
  },
  {
   "cell_type": "code",
   "execution_count": 21,
   "metadata": {
    "scrolled": true
   },
   "outputs": [
    {
     "name": "stdout",
     "output_type": "stream",
     "text": [
      "Base Random Forest Train Score:       0.8911574507001414\n",
      "Base Random OOB Score:                0.2091389903552513\n",
      "Base Random Forest Validation Score:  0.22654432048097828\n",
      "Base Random Forest MAE:               0.14282674792741365\n",
      "Base Random Forest RMSE:              0.2303030269818964\n"
     ]
    }
   ],
   "source": [
    "print('Base Random Forest Train Score:      ', rf_train_score)\n",
    "print('Base Random OOB Score:               ', rf.oob_score_)\n",
    "print('Base Random Forest Validation Score: ', rf_validation_score)\n",
    "print('Base Random Forest MAE:              ',rf_mae)\n",
    "print('Base Random Forest RMSE:             ',rf_rmse)"
   ]
  },
  {
   "cell_type": "markdown",
   "metadata": {},
   "source": [
    "The random forest model has a much better validation score of 0.227 compared to the linear regression which scored 0.047.  "
   ]
  },
  {
   "cell_type": "code",
   "execution_count": 22,
   "metadata": {},
   "outputs": [
    {
     "data": {
      "image/png": "[encoded data removed]",
      "text/plain": [
       "<Figure size 432x288 with 1 Axes>"
      ]
     },
     "metadata": {
      "needs_background": "light"
     },
     "output_type": "display_data"
    }
   ],
   "source": [
    "sns.residplot(x = rf_predictions, y = y_validation - rf_predictions)\n",
    "plt.title('Residuals, Random Forest Base Model', size = 12)\n",
    "plt.ylabel('Residuals', size = 10)\n",
    "plt.xlabel('Predicted ROI', size = 10)\n",
    "plt.show()"
   ]
  },
  {
   "cell_type": "code",
   "execution_count": 23,
   "metadata": {},
   "outputs": [
    {
     "data": {
      "image/png": "[encoded data removed]",
      "text/plain": [
       "<Figure size 432x288 with 1 Axes>"
      ]
     },
     "metadata": {
      "needs_background": "light"
     },
     "output_type": "display_data"
    }
   ],
   "source": [
    "plt.hist(y_validation - rf_predictions, bins = np.arange(-1.5, 1, 0.1))\n",
    "plt.title('Residual Distribution, Random Forest Base Model', size = 12)\n",
    "plt.ylabel('Residuals', size = 10)\n",
    "plt.xlabel('Predicted ROI', size = 10)\n",
    "plt.show()"
   ]
  },
  {
   "cell_type": "code",
   "execution_count": 24,
   "metadata": {},
   "outputs": [
    {
     "name": "stdout",
     "output_type": "stream",
     "text": [
      "Base Random Forest Residuals, 90th percentile:  (-0.645, 0.2529)\n"
     ]
    }
   ],
   "source": [
    "rf_90_percentile = calculate_residual_percentile(rf_predictions, y_validation ,90)\n",
    "print('Base Random Forest Residuals, 90th percentile: ', rf_90_percentile)"
   ]
  },
  {
   "cell_type": "markdown",
   "metadata": {},
   "source": [
    "The residuals are centered just above zero,  and also show a tail on the negative side, indicating loans with where the model over-estimating the low ROI. 90 Percent of the residuals are between -64.5% and 25.3% ROI."
   ]
  },
  {
   "cell_type": "markdown",
   "metadata": {},
   "source": [
    "#### Gradient Boosting"
   ]
  },
  {
   "cell_type": "code",
   "execution_count": 25,
   "metadata": {},
   "outputs": [
    {
     "data": {
      "text/plain": [
       "GradientBoostingRegressor(alpha=0.9, criterion='friedman_mse', init=None,\n",
       "             learning_rate=0.1, loss='ls', max_depth=3, max_features=None,\n",
       "             max_leaf_nodes=None, min_impurity_decrease=0.0,\n",
       "             min_impurity_split=None, min_samples_leaf=1,\n",
       "             min_samples_split=2, min_weight_fraction_leaf=0.0,\n",
       "             n_estimators=100, n_iter_no_change=None, presort='auto',\n",
       "             random_state=42, subsample=1.0, tol=0.0001,\n",
       "             validation_fraction=0.1, verbose=0, warm_start=False)"
      ]
     },
     "execution_count": 25,
     "metadata": {},
     "output_type": "execute_result"
    }
   ],
   "source": [
    "from sklearn.ensemble import GradientBoostingRegressor\n",
    "\n",
    "boost = GradientBoostingRegressor(random_state = 42)\n",
    "boost.fit(X_train, y_train)"
   ]
  },
  {
   "cell_type": "code",
   "execution_count": 26,
   "metadata": {},
   "outputs": [],
   "source": [
    "boost_predictions = boost.predict(X_validation)\n",
    "boost_train_score = boost.score(X_train, y_train)\n",
    "boost_validation_score = boost.score(X_validation, y_validation)\n",
    "boost_mae = np.mean(abs(boost_predictions - y_validation))\n",
    "boost_rmse = np.sqrt(mean_squared_error(y_validation, boost_predictions))"
   ]
  },
  {
   "cell_type": "code",
   "execution_count": 27,
   "metadata": {},
   "outputs": [
    {
     "name": "stdout",
     "output_type": "stream",
     "text": [
      "Base Gradient Boost Train Score:      0.20073252680517573\n",
      "Base Gradient Boost Validation Score: 0.19409240226094393\n",
      "Base Gradient Boost MAE:              0.14550951589814887\n",
      "Base Gradient Boost RSME:             0.2350848027878787\n"
     ]
    }
   ],
   "source": [
    "print('Base Gradient Boost Train Score:     ', boost_train_score)\n",
    "print('Base Gradient Boost Validation Score:', boost_validation_score)\n",
    "print('Base Gradient Boost MAE:             ', boost_mae)\n",
    "print('Base Gradient Boost RSME:            ',boost_rmse)"
   ]
  },
  {
   "cell_type": "code",
   "execution_count": 28,
   "metadata": {},
   "outputs": [
    {
     "data": {
      "image/png": "[encoded data removed]",
      "text/plain": [
       "<Figure size 432x288 with 1 Axes>"
      ]
     },
     "metadata": {
      "needs_background": "light"
     },
     "output_type": "display_data"
    }
   ],
   "source": [
    "sns.residplot(x = boost_predictions, y = y_validation - boost_predictions)\n",
    "plt.title('Residuals, Gradient Boost Base Model', size = 12)\n",
    "plt.ylabel('Residuals', size = 10)\n",
    "plt.xlabel('Predicted ROI', size = 10)\n",
    "plt.show()"
   ]
  },
  {
   "cell_type": "code",
   "execution_count": 29,
   "metadata": {},
   "outputs": [
    {
     "data": {
      "image/png": "[encoded data removed]",
      "text/plain": [
       "<Figure size 432x288 with 1 Axes>"
      ]
     },
     "metadata": {
      "needs_background": "light"
     },
     "output_type": "display_data"
    }
   ],
   "source": [
    "plt.hist(y_validation - boost_predictions, bins = np.arange(-1.5, 1, 0.1))\n",
    "plt.title('Residual Distribution, Gradient Boost Base Model', size = 12)\n",
    "plt.ylabel('Residuals', size = 10)\n",
    "plt.xlabel('Predicted ROI', size = 10)\n",
    "plt.show()"
   ]
  },
  {
   "cell_type": "code",
   "execution_count": 30,
   "metadata": {},
   "outputs": [
    {
     "name": "stdout",
     "output_type": "stream",
     "text": [
      "Base Gradient Boost Residuals, 90th percentile:  (-0.6596, 0.2422)\n"
     ]
    }
   ],
   "source": [
    "boost_90_percentile = calculate_residual_percentile(boost_predictions, y_validation ,90)\n",
    "print('Base Gradient Boost Residuals, 90th percentile: ', boost_90_percentile)"
   ]
  },
  {
   "cell_type": "markdown",
   "metadata": {},
   "source": [
    "The gradient boost baseline model performed slightly worse on the validation score than the random forest. The positive residuals have a heavy tail indicating cases where the model is not picking up on the really low ROIs."
   ]
  },
  {
   "cell_type": "markdown",
   "metadata": {},
   "source": [
    "#### Base Model Summary"
   ]
  },
  {
   "cell_type": "code",
   "execution_count": 31,
   "metadata": {},
   "outputs": [
    {
     "name": "stdout",
     "output_type": "stream",
     "text": [
      "Base Linear Regression:\n",
      " Train Score:       0.04884080017731684\n",
      " Validation Score:  0.04731168637184946\n",
      " MAE:               0.16368174500533897\n",
      " RMSE:              0.2555979396257154\n",
      "------------------------------------------------------------------------\n",
      "Base Random Forest:\n",
      " Train Score:       0.8911574507001414\n",
      " Validation Score:  0.22654432048097828\n",
      " MAE:               0.14282674792741365\n",
      " RMSE:              0.2303030269818964\n",
      "------------------------------------------------------------------------\n",
      "Base Gradient Boost:\n",
      " Train Score:       0.20073252680517573\n",
      " Validation Score:  0.19409240226094393\n",
      " MAE:               0.14550951589814887\n",
      " RSME:              0.2350848027878787\n"
     ]
    }
   ],
   "source": [
    "\n",
    "print('Base Linear Regression:')\n",
    "print(' Train Score:      ', lr_train_score)\n",
    "print(' Validation Score: ', lr_validation_score)\n",
    "print(' MAE:              ', lr_mae)\n",
    "print(' RMSE:             ', lr_rmse)\n",
    "print('-'*72)\n",
    "print('Base Random Forest:')\n",
    "print(' Train Score:      ', rf_train_score)\n",
    "print(' Validation Score: ', rf_validation_score)\n",
    "print(' MAE:              ', rf_mae)\n",
    "print(' RMSE:             ', rf_rmse)\n",
    "print('-'*72)\n",
    "print('Base Gradient Boost:')\n",
    "print(' Train Score:      ', boost_train_score)\n",
    "print(' Validation Score: ', boost_validation_score)\n",
    "print(' MAE:              ', boost_mae)\n",
    "print(' RSME:             ', boost_rmse)"
   ]
  },
  {
   "cell_type": "markdown",
   "metadata": {},
   "source": [
    "For the base models, the random forest is performing the best on the validation score, MAE, and RMSE, with the gradient boost performing just slightly worse. The base linear regression is a distant third place based on the validation score, however, the MAE and RMSE are not too far behind the ensemble models."
   ]
  },
  {
   "cell_type": "markdown",
   "metadata": {},
   "source": [
    "## Model Tuning"
   ]
  },
  {
   "cell_type": "markdown",
   "metadata": {},
   "source": [
    "#### Linear Regression  Tuning"
   ]
  },
  {
   "cell_type": "markdown",
   "metadata": {},
   "source": [
    "To tune the linear regression model, I will try fitting a ridge and lasso model to apply regularization and see if the results imprive. I don't expect a large gain since overfitting does not appear to be a problem with the baseline model. Based on the low score of on the training set, it most likely underfitting."
   ]
  },
  {
   "cell_type": "code",
   "execution_count": 32,
   "metadata": {},
   "outputs": [
    {
     "name": "stdout",
     "output_type": "stream",
     "text": [
      "alpha:   1e-06 | train error: 0.2551343656 | val error: 0.2555979396\n",
      "alpha:   1e-05 | train error: 0.2551343656 | val error: 0.2555979396\n",
      "alpha:  0.0001 | train error: 0.2551343656 | val error: 0.2555979397\n",
      "alpha:   0.001 | train error: 0.2551343656 | val error: 0.2555979399\n",
      "alpha:    0.01 | train error: 0.2551343656 | val error: 0.2555979422\n",
      "alpha:     0.1 | train error: 0.2551343666 | val error: 0.2555979655\n",
      "alpha:       1 | train error: 0.255134446 | val error: 0.2555981847\n",
      "alpha:      10 | train error: 0.2551363128 | val error: 0.2555983775\n",
      "alpha:     100 | train error: 0.2551434728 | val error: 0.2555802156\n"
     ]
    }
   ],
   "source": [
    "from sklearn.linear_model import Ridge\n",
    "\n",
    "alphas = [0.000001, 0.00001, 0.0001, 0.001, 0.01, 0.1, 1, 10, 100]\n",
    "\n",
    "for alpha in alphas:\n",
    "    \n",
    "    ridge = Ridge(alpha = alpha, fit_intercept = True, random_state = 1)\n",
    "    ridge.fit(X_train, y_train)\n",
    "    train_error = np.sqrt(mean_squared_error(y_train, ridge.predict(X_train)))\n",
    "    validation_error = np.sqrt(mean_squared_error(y_validation, ridge.predict(X_validation)))\n",
    "    print('alpha: {:7} | train error: {:5} | val error: {:6}'.\n",
    "          format(alpha,\n",
    "                 round(train_error,10),\n",
    "                 round(validation_error,10)))\n",
    "  "
   ]
  },
  {
   "cell_type": "code",
   "execution_count": 33,
   "metadata": {},
   "outputs": [
    {
     "data": {
      "text/plain": [
       "Ridge(alpha=1e-05, copy_X=True, fit_intercept=True, max_iter=None,\n",
       "   normalize=False, random_state=None, solver='auto', tol=0.001)"
      ]
     },
     "execution_count": 33,
     "metadata": {},
     "output_type": "execute_result"
    }
   ],
   "source": [
    "ridge = Ridge(alpha = .00001)\n",
    "ridge.fit(X_train, y_train)"
   ]
  },
  {
   "cell_type": "code",
   "execution_count": 34,
   "metadata": {},
   "outputs": [],
   "source": [
    "from sklearn.linear_model import Lasso"
   ]
  },
  {
   "cell_type": "code",
   "execution_count": 35,
   "metadata": {},
   "outputs": [
    {
     "name": "stdout",
     "output_type": "stream",
     "text": [
      "alpha:   1e-05 | train error: 0.2551420087 | val error: 0.2555854258\n",
      "alpha:  0.0001 | train error: 0.2552358275 | val error: 0.2555593454\n",
      "alpha:   0.001 | train error: 0.2557176739 | val error: 0.2559478222\n",
      "alpha:    0.01 | train error: 0.2574420086 | val error: 0.257795947\n",
      "alpha:     0.1 | train error: 0.2616027794 | val error: 0.2618680913\n",
      "alpha:       1 | train error: 0.2616027794 | val error: 0.2618680913\n",
      "alpha:      10 | train error: 0.2616027794 | val error: 0.2618680913\n"
     ]
    }
   ],
   "source": [
    "from sklearn.linear_model import Lasso\n",
    "\n",
    "alphas = [0.00001, 0.0001, 0.001, 0.01, 0.1, 1, 10]\n",
    "\n",
    "for alpha in alphas:\n",
    "    \n",
    "    lasso = Lasso(alpha = alpha, fit_intercept = True, random_state = 1)\n",
    "    lasso.fit(X_train, y_train)\n",
    "    new_train_error = np.sqrt(mean_squared_error(y_train, lasso.predict(X_train)))\n",
    "    new_validation_error = np.sqrt(mean_squared_error(y_validation, lasso.predict(X_validation)))\n",
    "    print('alpha: {:7} | train error: {:5} | val error: {:6}'.\n",
    "          format(alpha,\n",
    "                 round(new_train_error,10),\n",
    "                 round(new_validation_error,10)))"
   ]
  },
  {
   "cell_type": "code",
   "execution_count": 36,
   "metadata": {},
   "outputs": [
    {
     "data": {
      "text/plain": [
       "Lasso(alpha=0.0001, copy_X=True, fit_intercept=True, max_iter=1000,\n",
       "   normalize=False, positive=False, precompute=False, random_state=None,\n",
       "   selection='cyclic', tol=0.0001, warm_start=False)"
      ]
     },
     "execution_count": 36,
     "metadata": {},
     "output_type": "execute_result"
    }
   ],
   "source": [
    "lasso = Lasso(alpha = .0001)\n",
    "lasso.fit(X_train, y_train)"
   ]
  },
  {
   "cell_type": "code",
   "execution_count": 37,
   "metadata": {},
   "outputs": [
    {
     "name": "stdout",
     "output_type": "stream",
     "text": [
      "Base Linear Regression Train Score:       0.04884080017731684\n",
      "Base Linear Regression Validation Score:  0.04731168637184946\n",
      "------------------------------------------------------------------------\n",
      "Ridge Regression Train Score:             0.048840800177316734\n",
      "Ridge Regression Validation Score:        0.04731168635249383\n",
      "------------------------------------------------------------------------\n",
      "Lasso Regression Train Score:             0.048084135149472296\n",
      "Lasso Regression Validaton Score:         0.04759936851391777\n"
     ]
    }
   ],
   "source": [
    "lasso_train_score = lasso.score(X_train, y_train)\n",
    "lasso_validation_score = lasso.score(X_validation, y_validation)\n",
    "\n",
    "\n",
    "print('Base Linear Regression Train Score:      ', lr.score(X_train, y_train))\n",
    "print('Base Linear Regression Validation Score: ', lr.score(X_validation, y_validation))\n",
    "print('-'*72)\n",
    "print('Ridge Regression Train Score:            ', ridge.score(X_train, y_train))\n",
    "print('Ridge Regression Validation Score:       ', ridge.score(X_validation, y_validation))\n",
    "print('-'*72)\n",
    "print('Lasso Regression Train Score:            ', lasso_train_score)\n",
    "print('Lasso Regression Validaton Score:        ', lasso_validation_score)"
   ]
  },
  {
   "cell_type": "markdown",
   "metadata": {},
   "source": [
    "The lasso regularization is with an alpha value of 0.0001 is performing the best on the validation data, however, the gain is minimal. The ridge regression only has a very slight improvement over the baseline linear regression. "
   ]
  },
  {
   "cell_type": "code",
   "execution_count": 38,
   "metadata": {},
   "outputs": [
    {
     "name": "stdout",
     "output_type": "stream",
     "text": [
      "Base Linear Regression MAE:    0.16368174500533897\n",
      "Base Linear Regression RMSE:   0.2555979396257154\n",
      "Lasso Regresson MAE:           0.16346891966433677\n",
      "Lasso Regression RSME:         0.2555593454110179\n"
     ]
    }
   ],
   "source": [
    "lasso_predictions = lasso.predict(X_validation)\n",
    "lasso_mae = np.mean(abs(lasso_predictions - y_validation))\n",
    "lasso_rmse = np.sqrt(mean_squared_error(y_validation, lasso_predictions))\n",
    "\n",
    "print('Base Linear Regression MAE:   ',lr_mae)\n",
    "print('Base Linear Regression RMSE:  ',lr_rmse)\n",
    "print('Lasso Regresson MAE:          ',lasso_mae)\n",
    "print('Lasso Regression RSME:        ', lasso_rmse)"
   ]
  },
  {
   "cell_type": "markdown",
   "metadata": {},
   "source": [
    "The Lasso model also shows a minimal improvement on the MAE and RMSE metrics."
   ]
  },
  {
   "cell_type": "code",
   "execution_count": 39,
   "metadata": {},
   "outputs": [
    {
     "data": {
      "image/png": "[encoded data removed]",
      "text/plain": [
       "<Figure size 432x288 with 1 Axes>"
      ]
     },
     "metadata": {
      "needs_background": "light"
     },
     "output_type": "display_data"
    }
   ],
   "source": [
    "sns.residplot(x = lasso_predictions, y = y_validation - lasso_predictions)\n",
    "plt.title('Residuals, Lasso Regression Model', size = 12)\n",
    "plt.ylabel('Residuals', size = 10)\n",
    "plt.xlabel('Predicted ROI', size = 10)\n",
    "plt.show()"
   ]
  },
  {
   "cell_type": "code",
   "execution_count": 40,
   "metadata": {},
   "outputs": [
    {
     "data": {
      "image/png": "[encoded data removed]",
      "text/plain": [
       "<Figure size 432x288 with 1 Axes>"
      ]
     },
     "metadata": {
      "needs_background": "light"
     },
     "output_type": "display_data"
    }
   ],
   "source": [
    "plt.hist(y_validation - lasso_predictions, bins = np.arange(-1.5, 1, 0.1))\n",
    "plt.title('Residual Distribution, Lasso Model', size = 12)\n",
    "plt.ylabel('Residuals', size = 10)\n",
    "plt.xlabel('Predicted ROI', size = 10)\n",
    "plt.show()"
   ]
  },
  {
   "cell_type": "code",
   "execution_count": 41,
   "metadata": {},
   "outputs": [
    {
     "name": "stdout",
     "output_type": "stream",
     "text": [
      "Lasso Residuals, 90th percentile:  (-0.7592, 0.2359)\n"
     ]
    }
   ],
   "source": [
    "lasso_90_percentile = calculate_residual_percentile(lasso_predictions, y_validation ,90)\n",
    "print('Lasso Residuals, 90th percentile: ', lasso_90_percentile)"
   ]
  },
  {
   "cell_type": "markdown",
   "metadata": {},
   "source": [
    "As with the base model, the residuals are still centered above zero, and the negative residuals have a heavy tail. The base linear regression appears to be underfitting rather than overfitting based on the low overall score, the narrow range of prediction values, and the lack of improvement with lasso regularization."
   ]
  },
  {
   "cell_type": "markdown",
   "metadata": {},
   "source": [
    "#### Random Forest Tuning"
   ]
  },
  {
   "cell_type": "markdown",
   "metadata": {},
   "source": [
    "First I will look at the feature imporatances and try dropping some unimportant variables."
   ]
  },
  {
   "cell_type": "code",
   "execution_count": 42,
   "metadata": {},
   "outputs": [
    {
     "name": "stdout",
     "output_type": "stream",
     "text": [
      "                         importance\n",
      "days_since_last_cr_pull    0.169896\n",
      "int_rate                   0.056123\n",
      "term_ 60 months            0.042070\n",
      "dti                        0.029712\n",
      "revol_util                 0.026469\n",
      "annual_inc                 0.026297\n",
      "mo_sin_old_il_acct         0.026269\n",
      "funded_amnt                0.024518\n",
      "bc_util                    0.022568\n",
      "days_of_credit_hist        0.021515\n",
      "                            importance\n",
      "addr_state_RI                 0.000467\n",
      "collections_12_mths_ex_med    0.000434\n",
      "delinq_amnt                   0.000394\n",
      "grade_G                       0.000353\n",
      "chargeoff_within_12_mths      0.000339\n",
      "addr_state_MT                 0.000277\n",
      "acc_now_delinq                0.000142\n",
      "num_tl_30dpd                  0.000130\n",
      "purpose_renewable_energy      0.000101\n",
      "num_tl_120dpd_2m              0.000044\n"
     ]
    }
   ],
   "source": [
    "feature_importances = pd.DataFrame(rf.feature_importances_, index = X.columns, columns = ['importance']).sort_values('importance', ascending = False)\n",
    "print(feature_importances.head(10))\n",
    "print(feature_importances.tail(10))"
   ]
  },
  {
   "cell_type": "code",
   "execution_count": 43,
   "metadata": {},
   "outputs": [
    {
     "data": {
      "text/plain": [
       "70"
      ]
     },
     "execution_count": 43,
     "metadata": {},
     "output_type": "execute_result"
    }
   ],
   "source": [
    "drop_cols_rf = list(feature_importances[feature_importances.importance < 0.0015].index)\n",
    "len(drop_cols_rf)"
   ]
  },
  {
   "cell_type": "code",
   "execution_count": 44,
   "metadata": {},
   "outputs": [],
   "source": [
    "X_2 = X.drop(drop_cols_rf, axis = 1)\n",
    "\n",
    "X_2_intermediate, X_2_test, y_2_intermediate, y_2_test = train_test_split(X_2, y, test_size = 0.2, random_state = 42)\n",
    "\n",
    "X_2_train, X_2_validation, y_2_train, y_2_validation = train_test_split(X_2_intermediate, y_2_intermediate, test_size = 0.25, random_state = 42)\n"
   ]
  },
  {
   "cell_type": "code",
   "execution_count": 45,
   "metadata": {},
   "outputs": [
    {
     "data": {
      "text/plain": [
       "RandomForestRegressor(bootstrap=True, criterion='mse', max_depth=None,\n",
       "           max_features='auto', max_leaf_nodes=None,\n",
       "           min_impurity_decrease=0.0, min_impurity_split=None,\n",
       "           min_samples_leaf=1, min_samples_split=2,\n",
       "           min_weight_fraction_leaf=0.0, n_estimators=100, n_jobs=-1,\n",
       "           oob_score=False, random_state=42, verbose=0, warm_start=False)"
      ]
     },
     "execution_count": 45,
     "metadata": {},
     "output_type": "execute_result"
    }
   ],
   "source": [
    "rf_2 = RandomForestRegressor(n_jobs = -1, n_estimators = 100, random_state = 42)\n",
    "\n",
    "rf_2.fit(X_2_train, y_2_train)"
   ]
  },
  {
   "cell_type": "code",
   "execution_count": 46,
   "metadata": {},
   "outputs": [],
   "source": [
    "rf_2_predictions = rf_2.predict(X_2_validation)\n",
    "rf_2_train_score = rf_2.score(X_2_train, y_2_train)\n",
    "rf_2_validation_score = rf_2.score(X_2_validation, y_2_validation)\n",
    "rf_2_mae = np.mean(abs(rf_2_predictions - y_2_validation))\n",
    "rf_2_rmse = np.sqrt(mean_squared_error(y_2_validation, rf_2_predictions))"
   ]
  },
  {
   "cell_type": "code",
   "execution_count": 47,
   "metadata": {},
   "outputs": [
    {
     "name": "stdout",
     "output_type": "stream",
     "text": [
      "Base Random Forest:\n",
      " Train Score:       0.8911574507001414\n",
      " Validation Score:  0.22654432048097828\n",
      " MAE:               0.14282674792741365\n",
      " RMSE:              0.2303030269818964\n",
      "Reduced Dimension Random Forest:\n",
      " Train Score:       0.8909825252260515\n",
      " Validation Score:  0.22442054784116539\n",
      " MAE:               0.1437648558070682\n",
      " RMSE:              0.23061899594262816\n"
     ]
    }
   ],
   "source": [
    "print('Base Random Forest:')\n",
    "print(' Train Score:      ', rf_train_score)\n",
    "print(' Validation Score: ', rf_validation_score)\n",
    "print(' MAE:              ', rf_mae)\n",
    "print(' RMSE:             ', rf_rmse)\n",
    "print('Reduced Dimension Random Forest:')\n",
    "print(' Train Score:      ', rf_2_train_score)\n",
    "print(' Validation Score: ', rf_2_validation_score)\n",
    "print(' MAE:              ',rf_2_mae)\n",
    "print(' RMSE:             ',rf_2_rmse)"
   ]
  },
  {
   "cell_type": "markdown",
   "metadata": {},
   "source": [
    "Dropping the lower importance variables results a minimal reduction in the scoring metrics with a simpler model. Next I will tune the hyperparameters training on the reduced-dimension data."
   ]
  },
  {
   "cell_type": "code",
   "execution_count": 48,
   "metadata": {},
   "outputs": [
    {
     "name": "stdout",
     "output_type": "stream",
     "text": [
      "Automatically created module for IPython interactive environment\n"
     ]
    },
    {
     "name": "stderr",
     "output_type": "stream",
     "text": [
      "/anaconda3/lib/python3.6/site-packages/sklearn/ensemble/forest.py:732: UserWarning: Some inputs do not have OOB scores. This probably means too few trees were used to compute any reliable oob estimates.\n",
      "  warn(\"Some inputs do not have OOB scores. \"\n",
      "/anaconda3/lib/python3.6/site-packages/sklearn/ensemble/forest.py:732: UserWarning: Some inputs do not have OOB scores. This probably means too few trees were used to compute any reliable oob estimates.\n",
      "  warn(\"Some inputs do not have OOB scores. \"\n",
      "/anaconda3/lib/python3.6/site-packages/sklearn/ensemble/forest.py:732: UserWarning: Some inputs do not have OOB scores. This probably means too few trees were used to compute any reliable oob estimates.\n",
      "  warn(\"Some inputs do not have OOB scores. \"\n",
      "/anaconda3/lib/python3.6/site-packages/sklearn/ensemble/forest.py:732: UserWarning: Some inputs do not have OOB scores. This probably means too few trees were used to compute any reliable oob estimates.\n",
      "  warn(\"Some inputs do not have OOB scores. \"\n",
      "/anaconda3/lib/python3.6/site-packages/sklearn/ensemble/forest.py:732: UserWarning: Some inputs do not have OOB scores. This probably means too few trees were used to compute any reliable oob estimates.\n",
      "  warn(\"Some inputs do not have OOB scores. \"\n",
      "/anaconda3/lib/python3.6/site-packages/sklearn/ensemble/forest.py:732: UserWarning: Some inputs do not have OOB scores. This probably means too few trees were used to compute any reliable oob estimates.\n",
      "  warn(\"Some inputs do not have OOB scores. \"\n"
     ]
    },
    {
     "data": {
      "image/png": "[encoded data removed]",
      "text/plain": [
       "<Figure size 432x288 with 1 Axes>"
      ]
     },
     "metadata": {
      "needs_background": "light"
     },
     "output_type": "display_data"
    }
   ],
   "source": [
    "import matplotlib.pyplot as plt\n",
    "from collections import OrderedDict\n",
    "from sklearn.ensemble import RandomForestRegressor\n",
    "\n",
    "#This section of code adapted from code by Kian Ho, Gilles Louppe, and Andreas Meuller\n",
    "#found in sklearn documentation at:\n",
    "#http://scikit-learn.org/stable/auto_examples/ensemble/plot_ensemble_oob.html#sphx-glr-\n",
    "#auto-examples-ensemble-plot-ensemble-oob-py\n",
    "\n",
    "# Author: Kian Ho <hui.kian.ho@gmail.com>\n",
    "#         Gilles Louppe <g.louppe@gmail.com>\n",
    "#         Andreas Mueller <amueller@ais.uni-bonn.de>\n",
    "#\n",
    "# License: BSD 3 Clause\n",
    "\n",
    "print(__doc__)\n",
    "\n",
    "random_state = 42\n",
    "\n",
    "# Generate a binary classification dataset.\n",
    "#X, y = make_classification(n_samples = 500, n_features=25,\n",
    "#                           n_clusters_per_class = 1, n_informative = 15,\n",
    "#                           random_state = random_state)\n",
    "\n",
    "# NOTE: Setting the `warm_start` construction parameter to `True` disables\n",
    "# support for parallelized ensembles but is necessary for tracking the OOB\n",
    "# error trajectory during training.\n",
    "ensemble_clfs = [\n",
    "    (\"RandomForestRegressor, max_features = 'sqrt'\",\n",
    "        RandomForestRegressor(n_estimators = 100,\n",
    "                               warm_start = True,\n",
    "                               oob_score = True,\n",
    "                               max_features = \"sqrt\",\n",
    "                               random_state = random_state,\n",
    "                               n_jobs = -1)),\n",
    "    (\"RandomForestRegressor, max_features = log2\",\n",
    "        RandomForestRegressor(n_estimators = 100,\n",
    "                               warm_start = True,\n",
    "                               max_features = 'log2',\n",
    "                               oob_score = True,\n",
    "                               random_state = random_state,\n",
    "                               n_jobs = -1)),\n",
    "    (\"RandomForestRegressor, max_features = None\",\n",
    "        RandomForestRegressor(n_estimators = 100,\n",
    "                               warm_start = True,\n",
    "                               max_features = None,\n",
    "                               oob_score = True,\n",
    "                               random_state = random_state,\n",
    "                               n_jobs = -1))\n",
    "]\n",
    "\n",
    "# Map a classifier name to a list of (<n_estimators>, <error rate>) pairs.\n",
    "error_rate = OrderedDict((label, []) for label, _ in ensemble_clfs)\n",
    "\n",
    "# Range of `n_estimators` values to explore.\n",
    "min_estimators = 10\n",
    "max_estimators = 400\n",
    "\n",
    "for label, clf in ensemble_clfs:\n",
    "    for i in range(min_estimators, max_estimators + 1, 10):\n",
    "        clf.set_params(n_estimators = i)\n",
    "        clf.fit(X_2_train, y_2_train)\n",
    "\n",
    "        # Record the OOB error for each `n_estimators=i` setting.\n",
    "        oob_error = 1 - clf.oob_score_\n",
    "        error_rate[label].append((i, oob_error))\n",
    "\n",
    "# Generate the \"OOB error rate\" vs. \"n_estimators\" plot.\n",
    "for label, clf_err in error_rate.items():\n",
    "    xs, ys = zip(*clf_err)\n",
    "    plt.plot(xs, ys, label=label)\n",
    "\n",
    "plt.xlim(min_estimators, max_estimators)\n",
    "plt.title('Random Forest OOB Error Rate by n_estimators')\n",
    "plt.xlabel(\"n_estimators\")\n",
    "plt.ylabel(\"OOB error rate\")\n",
    "plt.legend(loc = \"upper right\")\n",
    "plt.show()"
   ]
  },
  {
   "cell_type": "markdown",
   "metadata": {},
   "source": [
    "The base model used 100 for `n_estimators`, but the gains don't really level off until the 200-300 range. The OOB error is lowest using all features (`max_features` = None), so i will select 400 `n_estimators` and `None` for `max_features`"
   ]
  },
  {
   "cell_type": "code",
   "execution_count": 49,
   "metadata": {},
   "outputs": [
    {
     "data": {
      "text/plain": [
       "RandomForestRegressor(bootstrap=True, criterion='mse', max_depth=None,\n",
       "           max_features=None, max_leaf_nodes=None,\n",
       "           min_impurity_decrease=0.0, min_impurity_split=None,\n",
       "           min_samples_leaf=1, min_samples_split=2,\n",
       "           min_weight_fraction_leaf=0.0, n_estimators=400, n_jobs=-1,\n",
       "           oob_score=True, random_state=42, verbose=0, warm_start=False)"
      ]
     },
     "execution_count": 49,
     "metadata": {},
     "output_type": "execute_result"
    }
   ],
   "source": [
    "rf_3 = RandomForestRegressor(n_estimators = 400, max_features = None, n_jobs = -1, random_state = 42, oob_score = True)\n",
    "\n",
    "rf_3.fit(X_2_train, y_2_train)"
   ]
  },
  {
   "cell_type": "code",
   "execution_count": 50,
   "metadata": {},
   "outputs": [],
   "source": [
    "rf_3_predictions = rf_3.predict(X_2_validation)\n",
    "rf_3_train_score = rf_3.score(X_2_train, y_2_train)\n",
    "rf_3_validation_score = rf_3.score(X_2_validation, y_2_validation)\n",
    "rf_3_mae = np.mean(abs(rf_3_predictions - y_2_validation))\n",
    "rf_3_rmse = np.sqrt(mean_squared_error(y_2_validation, rf_3_predictions))"
   ]
  },
  {
   "cell_type": "code",
   "execution_count": 51,
   "metadata": {},
   "outputs": [
    {
     "name": "stdout",
     "output_type": "stream",
     "text": [
      "Base Random Forest:\n",
      " Train Score:       0.8911574507001414\n",
      " OOB Score:         0.2091389903552513\n",
      " Validation Score:  0.22654432048097828\n",
      " MAE:               0.14282674792741365\n",
      " RMSE:              0.2303030269818964\n",
      "Tuned Random Forest:\n",
      " Train Score:       0.8949052656303671\n",
      " OOB Score:         0.22589766323511917\n",
      " Validation Score:  0.23205994807493768\n",
      " MAE:               0.14312376697339443\n",
      " RMSE:              0.22948039519534782\n"
     ]
    }
   ],
   "source": [
    "print('Base Random Forest:')\n",
    "print(' Train Score:      ', rf_train_score)\n",
    "print(' OOB Score:        ', rf.oob_score_)\n",
    "print(' Validation Score: ', rf_validation_score)\n",
    "print(' MAE:              ', rf_mae)\n",
    "print(' RMSE:             ', rf_rmse)\n",
    "print('Tuned Random Forest:')\n",
    "print(' Train Score:      ', rf_3_train_score)\n",
    "print(' OOB Score:        ', rf_3.oob_score_)\n",
    "print(' Validation Score: ', rf_3_validation_score)\n",
    "print(' MAE:              ', rf_3_mae)\n",
    "print(' RMSE:             ', rf_3_rmse)"
   ]
  },
  {
   "cell_type": "code",
   "execution_count": 52,
   "metadata": {},
   "outputs": [
    {
     "data": {
      "image/png": "[encoded data removed]",
      "text/plain": [
       "<Figure size 432x288 with 1 Axes>"
      ]
     },
     "metadata": {
      "needs_background": "light"
     },
     "output_type": "display_data"
    }
   ],
   "source": [
    "sns.residplot(x = rf_3_predictions, y = y_validation - rf_3_predictions)\n",
    "plt.title('Residuals,  Tuned Random Forest Model', size = 12)\n",
    "plt.ylabel('Residuals', size = 10)\n",
    "plt.xlabel('Predicted ROI', size = 10)\n",
    "plt.show()"
   ]
  },
  {
   "cell_type": "code",
   "execution_count": 53,
   "metadata": {},
   "outputs": [
    {
     "data": {
      "image/png": "[encoded data removed]",
      "text/plain": [
       "<Figure size 432x288 with 1 Axes>"
      ]
     },
     "metadata": {
      "needs_background": "light"
     },
     "output_type": "display_data"
    }
   ],
   "source": [
    "plt.hist(y_validation - rf_3_predictions, bins = np.arange(-1.5, 1, 0.1))\n",
    "plt.title('Residual Distribution, Tuned Random Forest Model', size = 12)\n",
    "plt.ylabel('Residuals', size = 10)\n",
    "plt.xlabel('Predicted ROI', size = 10)\n",
    "plt.show()"
   ]
  },
  {
   "cell_type": "code",
   "execution_count": 54,
   "metadata": {},
   "outputs": [
    {
     "name": "stdout",
     "output_type": "stream",
     "text": [
      "Tuned Random Forest Residuals, 90th percentile:  (-0.6437, 0.2552)\n"
     ]
    }
   ],
   "source": [
    "rf_3_90_percentile = calculate_residual_percentile(rf_3_predictions, y_validation ,90)\n",
    "print('Tuned Random Forest Residuals, 90th percentile: ', rf_3_90_percentile)"
   ]
  },
  {
   "cell_type": "markdown",
   "metadata": {},
   "source": [
    "The hyperparameter tuning helped improve the validation score from 0.2265 to 0.2321, and also dropped the RMSE slightly, however, the MAE oddly increased slightly, meaning there may be some more extreme residuals.  The tuning did not help with the overfitting, and the odd difference between the train and test residuals is still seen in the residual plot."
   ]
  },
  {
   "cell_type": "markdown",
   "metadata": {},
   "source": [
    "#### Gradient Boost Tuning"
   ]
  },
  {
   "cell_type": "markdown",
   "metadata": {},
   "source": [
    "To tune the gradient boost model, I will set up a parameter grid and do a grid search to determine which parameters yield the highest score on the validation set. I will search over the `max_depth`, `learning_rate`, `min_samples_leaf`, and `max_features` hyperparameters, all with an increased `n_estimators` parameter of 1000."
   ]
  },
  {
   "cell_type": "code",
   "execution_count": 55,
   "metadata": {},
   "outputs": [],
   "source": [
    "from sklearn.model_selection import ParameterGrid\n",
    "\n",
    "param_grid = {'learning_rate' : [0.1, 0.05, 0.02], #default 0.1\n",
    "              'min_samples_leaf' : [1,3], #default 1\n",
    "              'max_features' : [1, 0.5, 0.2]} #default none (all)\n",
    "\n",
    "boost_2 = GradientBoostingRegressor(n_estimators = 1000, random_state = 42)"
   ]
  },
  {
   "cell_type": "code",
   "execution_count": 56,
   "metadata": {},
   "outputs": [],
   "source": [
    "scores = []\n",
    "best_score = 0\n",
    "best_param = {}\n",
    "\n",
    "for p in ParameterGrid(param_grid):\n",
    "    boost_2.set_params(**p)\n",
    "    boost_2.fit(X_2_train, y_2_train)\n",
    "    score = boost_2.score(X_2_validation, y_2_validation)\n",
    "    scores.append(score)\n",
    "    if score > best_score:\n",
    "        best_score = score\n",
    "        best_param = p"
   ]
  },
  {
   "cell_type": "code",
   "execution_count": 57,
   "metadata": {},
   "outputs": [
    {
     "name": "stdout",
     "output_type": "stream",
     "text": [
      "{'learning_rate': 0.1, 'max_features': 0.5, 'min_samples_leaf': 1}\n",
      "0.24594772793165753\n"
     ]
    }
   ],
   "source": [
    "print(best_param)\n",
    "print(best_score)"
   ]
  },
  {
   "cell_type": "markdown",
   "metadata": {},
   "source": [
    "The best scoring was found with a learning rate of 0.01, max features of 0.5, and minimum samples leaf of 1."
   ]
  },
  {
   "cell_type": "code",
   "execution_count": 58,
   "metadata": {},
   "outputs": [
    {
     "data": {
      "text/plain": [
       "GradientBoostingRegressor(alpha=0.9, criterion='friedman_mse', init=None,\n",
       "             learning_rate=0.1, loss='ls', max_depth=3, max_features=0.5,\n",
       "             max_leaf_nodes=None, min_impurity_decrease=0.0,\n",
       "             min_impurity_split=None, min_samples_leaf=3,\n",
       "             min_samples_split=2, min_weight_fraction_leaf=0.0,\n",
       "             n_estimators=1000, n_iter_no_change=None, presort='auto',\n",
       "             random_state=42, subsample=1.0, tol=0.0001,\n",
       "             validation_fraction=0.1, verbose=0, warm_start=False)"
      ]
     },
     "execution_count": 58,
     "metadata": {},
     "output_type": "execute_result"
    }
   ],
   "source": [
    "boost_3 = GradientBoostingRegressor(n_estimators = 1000,\n",
    "                                        learning_rate = 0.1,\n",
    "                                        max_features = 0.5,\n",
    "                                        min_samples_leaf = 3,\n",
    "                                        random_state = 42)\n",
    "boost_3.fit(X_2_train, y_2_train)"
   ]
  },
  {
   "cell_type": "code",
   "execution_count": 59,
   "metadata": {},
   "outputs": [
    {
     "name": "stdout",
     "output_type": "stream",
     "text": [
      "Base Gradient Boost:\n",
      " Train Score:       0.20073252680517573\n",
      " Validation Score:  0.19409240226094393\n",
      " MAE:               0.14550951589814887\n",
      " RSME:              0.2350848027878787\n",
      "........................................................................\n",
      "Tuned Gradient Boost:\n",
      " Train Score:       0.30792057388372207\n",
      " Validation Score:  0.2455816989591735\n",
      " MAE:               0.13931332808709188\n",
      " RSME:              0.2274510977993755\n"
     ]
    }
   ],
   "source": [
    "boost_3_predictions = boost_3.predict(X_2_validation)\n",
    "boost_3_train_score = boost_3.score(X_2_train, y_2_train)\n",
    "boost_3_validation_score = boost_3.score(X_2_validation, y_2_validation)\n",
    "boost_3_mae = np.mean(abs(boost_3_predictions - y_2_validation))\n",
    "boost_3_rmse = np.sqrt(mean_squared_error(y_2_validation, boost_3_predictions))\n",
    "print('Base Gradient Boost:')\n",
    "print(' Train Score:      ', boost_train_score)\n",
    "print(' Validation Score: ', boost_validation_score)\n",
    "print(' MAE:              ', boost_mae)\n",
    "print(' RSME:             ', boost_rmse)\n",
    "print('.'*72)\n",
    "print('Tuned Gradient Boost:')\n",
    "print(' Train Score:      ', boost_3_train_score)\n",
    "print(' Validation Score: ', boost_3_validation_score)\n",
    "print(' MAE:              ', boost_3_mae)\n",
    "print(' RSME:             ', boost_3_rmse)"
   ]
  },
  {
   "cell_type": "markdown",
   "metadata": {},
   "source": [
    "The gradient boost tuning provided a decent gain in validation scores from 0.19409 to 0.24595, while also reducing the MAE and RMSE."
   ]
  },
  {
   "cell_type": "code",
   "execution_count": 60,
   "metadata": {},
   "outputs": [
    {
     "data": {
      "image/png": "[encoded data removed]",
      "text/plain": [
       "<Figure size 432x288 with 1 Axes>"
      ]
     },
     "metadata": {
      "needs_background": "light"
     },
     "output_type": "display_data"
    }
   ],
   "source": [
    "sns.residplot(x = boost_3_predictions, y = y_validation - boost_3_predictions)\n",
    "plt.title('Residuals,  Tuned Gradient Boost Model', size = 12)\n",
    "plt.ylabel('Residuals', size = 10)\n",
    "plt.xlabel('Predicted ROI', size = 10)\n",
    "plt.show()"
   ]
  },
  {
   "cell_type": "code",
   "execution_count": 61,
   "metadata": {},
   "outputs": [
    {
     "data": {
      "image/png": "[encoded data removed]",
      "text/plain": [
       "<Figure size 432x288 with 1 Axes>"
      ]
     },
     "metadata": {
      "needs_background": "light"
     },
     "output_type": "display_data"
    }
   ],
   "source": [
    "plt.hist(y_validation - boost_3_predictions, bins = np.arange(-1.5, 1, 0.1))\n",
    "plt.title('Residual Distribution, Tuned Random Forest Model', size = 12)\n",
    "plt.ylabel('Residuals', size = 10)\n",
    "plt.xlabel('Predicted ROI', size = 10)\n",
    "plt.show()"
   ]
  },
  {
   "cell_type": "code",
   "execution_count": 62,
   "metadata": {},
   "outputs": [
    {
     "name": "stdout",
     "output_type": "stream",
     "text": [
      "Tuned Gradient Boost Residuals, 90th percentile:  (-0.6221, 0.2407)\n"
     ]
    }
   ],
   "source": [
    "boost_3_90_percentile = calculate_residual_percentile(boost_3_predictions, y_validation ,90)\n",
    "print('Tuned Gradient Boost Residuals, 90th percentile: ', boost_3_90_percentile)"
   ]
  },
  {
   "cell_type": "markdown",
   "metadata": {},
   "source": [
    "## Model Selection"
   ]
  },
  {
   "cell_type": "markdown",
   "metadata": {},
   "source": [
    "#### Model Selection"
   ]
  },
  {
   "cell_type": "code",
   "execution_count": 63,
   "metadata": {},
   "outputs": [
    {
     "name": "stdout",
     "output_type": "stream",
     "text": [
      "Tuned Linear Regression (Lasso):\n",
      " Train Score:       0.048084135149472296\n",
      " Validation Score:  0.04759936851391777\n",
      " MAE:               0.16346891966433677\n",
      " RMSE:              0.2555593454110179\n",
      "------------------------------------------------------------------------\n",
      "Tuned Random Forest:\n",
      " Train Score:       0.8949052656303671\n",
      " Validation Score:  0.23205994807493768\n",
      " MAE:               0.14312376697339443\n",
      " RMSE:              0.22948039519534782\n",
      "------------------------------------------------------------------------\n",
      "Tuned Gradient Boost:\n",
      " Train Score:       0.30792057388372207\n",
      " Validation Score:  0.2455816989591735\n",
      " MAE:               0.13931332808709188\n",
      " RSME:              0.2274510977993755\n"
     ]
    }
   ],
   "source": [
    "print('Tuned Linear Regression (Lasso):')\n",
    "print(' Train Score:      ', lasso_train_score)\n",
    "print(' Validation Score: ', lasso_validation_score)\n",
    "print(' MAE:              ', lasso_mae)\n",
    "print(' RMSE:             ', lasso_rmse)\n",
    "print('-'*72)\n",
    "print('Tuned Random Forest:')\n",
    "print(' Train Score:      ', rf_3_train_score)\n",
    "print(' Validation Score: ', rf_3_validation_score)\n",
    "print(' MAE:              ', rf_3_mae)\n",
    "print(' RMSE:             ', rf_3_rmse)\n",
    "print('-'*72)\n",
    "print('Tuned Gradient Boost:')\n",
    "print(' Train Score:      ', boost_3_train_score)\n",
    "print(' Validation Score: ', boost_3_validation_score)\n",
    "print(' MAE:              ', boost_3_mae)\n",
    "print(' RSME:             ', boost_3_rmse)"
   ]
  },
  {
   "cell_type": "markdown",
   "metadata": {},
   "source": [
    "After tuning, the gradient boost has the highest validation score and the lowest MAE and RMSE, and thus will be the model selected.\n",
    "\n",
    "To best estimate how this model will perform on unseen data, I will do one final fit on all available data except the test data (the train and validation data), and evaluate the results on the test data."
   ]
  },
  {
   "cell_type": "markdown",
   "metadata": {},
   "source": [
    "## Findings"
   ]
  },
  {
   "cell_type": "code",
   "execution_count": 64,
   "metadata": {},
   "outputs": [
    {
     "data": {
      "text/plain": [
       "GradientBoostingRegressor(alpha=0.9, criterion='friedman_mse', init=None,\n",
       "             learning_rate=0.1, loss='ls', max_depth=3, max_features=0.5,\n",
       "             max_leaf_nodes=None, min_impurity_decrease=0.0,\n",
       "             min_impurity_split=None, min_samples_leaf=1,\n",
       "             min_samples_split=2, min_weight_fraction_leaf=0.0,\n",
       "             n_estimators=1000, n_iter_no_change=None, presort='auto',\n",
       "             random_state=42, subsample=1.0, tol=0.0001,\n",
       "             validation_fraction=0.1, verbose=0, warm_start=False)"
      ]
     },
     "execution_count": 64,
     "metadata": {},
     "output_type": "execute_result"
    }
   ],
   "source": [
    "final_boost_model = GradientBoostingRegressor(n_estimators = 1000,\n",
    "                                              learning_rate = 0.1,\n",
    "                                              max_features = 0.5,\n",
    "                                              min_samples_leaf = 1,\n",
    "                                              random_state = 42)\n",
    "final_boost_model.fit(X_2_intermediate, y_2_intermediate)"
   ]
  },
  {
   "cell_type": "code",
   "execution_count": 65,
   "metadata": {},
   "outputs": [],
   "source": [
    "final_predictions = final_boost_model.predict(X_2_test)\n",
    "final_predictions_train_score = final_boost_model.score(X_2_intermediate, y_2_intermediate)\n",
    "final_predictions_test_score = final_boost_model.score(X_2_test, y_2_test)\n",
    "final_predictions_mae = np.mean(abs(final_predictions - y_2_test))\n",
    "final_predictions_3_rmse = np.sqrt(mean_squared_error(y_2_test, final_predictions))"
   ]
  },
  {
   "cell_type": "code",
   "execution_count": 66,
   "metadata": {},
   "outputs": [
    {
     "name": "stdout",
     "output_type": "stream",
     "text": [
      "Final Model  Scoring:\n",
      " Train Score:       0.29751510294303507\n",
      " Test Score:        0.2545382897527162\n",
      " MAE:               0.13709964105654646\n",
      " RSME:              0.2223468467789649\n"
     ]
    }
   ],
   "source": [
    "print('Final Model  Scoring:')\n",
    "print(' Train Score:      ', final_predictions_train_score)\n",
    "print(' Test Score:       ', final_predictions_test_score)\n",
    "print(' MAE:              ', final_predictions_mae)\n",
    "print(' RSME:             ', final_predictions_3_rmse)"
   ]
  },
  {
   "cell_type": "markdown",
   "metadata": {},
   "source": [
    "The final results are a test R-squared value of 0.2545, a MAE of 0.1371, and a RMSE of 0.2223.     \n",
    "\n",
    "To see how these results translate in their ability to help with the original business case, I will run some scenarios.\n",
    "\n",
    "In the first scenario, I will try to simulate the results that could happen if an investor had no model at all and randomly chose a loan, and compare that to what might be expected if a lender used the model, and only invested in loans that have a predicted ROI above the 95th percentile.  I am picking the top 5 percent because not all loans are available at any given time so it isn't realistic to only select the few with the highest predicted ROI, and it will give me an large enough sample of loans to get an idea of the distribution of ROIs for those loans."
   ]
  },
  {
   "cell_type": "code",
   "execution_count": null,
   "metadata": {},
   "outputs": [],
   "source": [
    "X_2_test['roi']= y_test\n",
    "X_2_test['predicted_roi']= final_predictions"
   ]
  },
  {
   "cell_type": "code",
   "execution_count": 68,
   "metadata": {},
   "outputs": [
    {
     "data": {
      "text/plain": [
       "0.12192684154217535"
      ]
     },
     "execution_count": 68,
     "metadata": {},
     "output_type": "execute_result"
    }
   ],
   "source": [
    "np.mean(X_2_test.roi)"
   ]
  },
  {
   "cell_type": "code",
   "execution_count": 69,
   "metadata": {},
   "outputs": [
    {
     "data": {
      "image/png": "[encoded data removed]",
      "text/plain": [
       "<Figure size 432x288 with 1 Axes>"
      ]
     },
     "metadata": {
      "needs_background": "light"
     },
     "output_type": "display_data"
    }
   ],
   "source": [
    "plt.hist(X_2_test.roi, bins = np.arange(-1, 0.8, 0.05), edgecolor = 'black')\n",
    "plt.title('Distribution of ROI, All-Loans', size = 13)\n",
    "plt.xlabel('ROI', size = 12)\n",
    "plt.ylabel('Loans', size = 12)\n",
    "plt.show()"
   ]
  },
  {
   "cell_type": "code",
   "execution_count": 70,
   "metadata": {},
   "outputs": [
    {
     "name": "stdout",
     "output_type": "stream",
     "text": [
      "Percent of loans with negative ROI, no model:  13.25 %\n"
     ]
    }
   ],
   "source": [
    "from scipy.stats import percentileofscore\n",
    "loss_percent_all = percentileofscore(X_2_test.roi, 0)\n",
    "print('Percent of loans with negative ROI, no model: ', round(loss_percent_all,2),'%')"
   ]
  },
  {
   "cell_type": "markdown",
   "metadata": {},
   "source": [
    "Choosing loans at random, an investor would expect an average ROI of 0.12.  The distribution shows that most loans have an ROI between zero and 0.35, with a long tail of loans that have a negative ROI, and few loans with an ROI above 0.35.\n",
    "\n",
    "Next I will look at the loans with a predicted ROI above the 95th percentile, and see what the average actual ROIs and their distribution looks like."
   ]
  },
  {
   "cell_type": "code",
   "execution_count": 71,
   "metadata": {},
   "outputs": [
    {
     "data": {
      "text/plain": [
       "0.30462693280562425"
      ]
     },
     "execution_count": 71,
     "metadata": {},
     "output_type": "execute_result"
    }
   ],
   "source": [
    "percentile = np.percentile(X_2_test['predicted_roi'],95)\n",
    "percentile"
   ]
  },
  {
   "cell_type": "code",
   "execution_count": 72,
   "metadata": {},
   "outputs": [],
   "source": [
    "X_2_best_predictions = X_2_test.query('predicted_roi > @percentile')"
   ]
  },
  {
   "cell_type": "code",
   "execution_count": 73,
   "metadata": {},
   "outputs": [
    {
     "data": {
      "text/plain": [
       "0.36786639552749756"
      ]
     },
     "execution_count": 73,
     "metadata": {},
     "output_type": "execute_result"
    }
   ],
   "source": [
    "np.mean(X_2_best_predictions.roi)"
   ]
  },
  {
   "cell_type": "code",
   "execution_count": 74,
   "metadata": {},
   "outputs": [
    {
     "data": {
      "image/png": "[encoded data removed]",
      "text/plain": [
       "<Figure size 432x288 with 1 Axes>"
      ]
     },
     "metadata": {
      "needs_background": "light"
     },
     "output_type": "display_data"
    }
   ],
   "source": [
    "plt.hist(X_2_best_predictions.roi, bins = np.arange(-1, 0.8, 0.05), edgecolor = 'black')\n",
    "plt.title('Distribution of ROI, Best Loans Selected by Model', size = 13)\n",
    "plt.xlabel('ROI', size = 12)\n",
    "plt.ylabel('Loans', size = 12)\n",
    "plt.show()"
   ]
  },
  {
   "cell_type": "code",
   "execution_count": 75,
   "metadata": {},
   "outputs": [
    {
     "name": "stdout",
     "output_type": "stream",
     "text": [
      "Percent of loans with negative ROI using model:  7.21 %\n"
     ]
    }
   ],
   "source": [
    "loss_percent_best = percentileofscore(X_2_best_predictions.roi, 0)\n",
    "print('Percent of loans with negative ROI using model: ', round(loss_percent_best,2),'%')"
   ]
  },
  {
   "cell_type": "markdown",
   "metadata": {},
   "source": [
    "Choosing the models that are only in the top 5 percentile of the loan predictions results in a much better distribution of actual ROI.  By only choosing from the top ROI predictions, the mean ROI increases from 12.2% to 36.8%. There are many more loans with an ROI above 35% in the loans selected from the model compared to the loans selected at random. There is still a long tail of negative-ROI loans, meaning that there is still a risk of losing money, but it is lower than choosing loans at random. In the total population of loans, 13.25% had a negative ROI, but it is reduced to 7.21% among the top loans chosen by the model.\n",
    "\n",
    "The following plot shows both distributions overlapping, where it is easy to see the improvement in ROI by selecting the from the highest predictions (green) compared to selecting loans at random (blue).\n"
   ]
  },
  {
   "cell_type": "code",
   "execution_count": 88,
   "metadata": {},
   "outputs": [
    {
     "data": {
      "image/png": "[encoded data removed]",
      "text/plain": [
       "<Figure size 432x288 with 1 Axes>"
      ]
     },
     "metadata": {
      "needs_background": "light"
     },
     "output_type": "display_data"
    }
   ],
   "source": [
    "plt.hist(X_2_test.roi, bins = np.arange(-1, 0.8, 0.05),\n",
    "         edgecolor = 'black',\n",
    "         density = True,\n",
    "         color = 'blue', alpha = 0.7)\n",
    "plt.hist(X_2_best_predictions.roi, bins = np.arange(-1, 0.8, 0.05),\n",
    "         edgecolor = 'black',\n",
    "         density = True,\n",
    "         color = 'green', alpha = 0.7)\n",
    "plt.title('Distribution of ROI', size = 13)\n",
    "plt.xlabel('ROI', size = 12)\n",
    "plt.ylabel('Proportion', size = 12)\n",
    "plt.show()"
   ]
  },
  {
   "cell_type": "markdown",
   "metadata": {},
   "source": [
    "For the second scenario, I will assume most investors don’t just select  loans at random.  While I can’t run a scenario for all investment strategies, I can create a scenario from the earlier discussion of loan grade and purpose. E-grade loans have the highest average ROI, but are also riskier than higher grade loans.  Also, I will exclude small business loans, since it was discovered that they have both the lowest average ROI and higher risk of default than the other loan purposes. In this scenario, I will compare the results of using the model to select the best loans, with the results of an investor who has a strategy to  improve their mean ROI by selecting E grade loans, that are not for small businesses. \n",
    "\n",
    "Again, I’ll look at the distribution of ROIs as well as the average ROI and percentage of loans with a negative ROI.\n"
   ]
  },
  {
   "cell_type": "code",
   "execution_count": null,
   "metadata": {},
   "outputs": [],
   "source": [
    "X_2_test['grade_E'] = X_test['grade_E']\n",
    "e_grade_loans = X_2_test.query('grade_E > 0')\n",
    "e_grade_loans = e_grade_loans.query('purpose_small_business < 1')"
   ]
  },
  {
   "cell_type": "code",
   "execution_count": 78,
   "metadata": {},
   "outputs": [
    {
     "name": "stdout",
     "output_type": "stream",
     "text": [
      "Mean ROI, E-grade loans:  17.32 %\n"
     ]
    }
   ],
   "source": [
    "print('Mean ROI, E-grade loans: ',round(np.mean(e_grade_loans.roi) *100,2),'%')"
   ]
  },
  {
   "cell_type": "code",
   "execution_count": 79,
   "metadata": {},
   "outputs": [
    {
     "name": "stdout",
     "output_type": "stream",
     "text": [
      "Percent of loans with negative ROI choosing E-Grade:  22.04 %\n"
     ]
    }
   ],
   "source": [
    "loss_percent_e = percentileofscore(e_grade_loans.roi, 0)\n",
    "print('Percent of loans with negative ROI choosing E-Grade: ', round(loss_percent_e, 2), \"%\")"
   ]
  },
  {
   "cell_type": "code",
   "execution_count": 80,
   "metadata": {},
   "outputs": [
    {
     "data": {
      "image/png": "[encoded data removed]",
      "text/plain": [
       "<Figure size 432x288 with 1 Axes>"
      ]
     },
     "metadata": {
      "needs_background": "light"
     },
     "output_type": "display_data"
    }
   ],
   "source": [
    "plt.hist(e_grade_loans.roi, bins = np.arange(-1, 0.8, 0.05), edgecolor = 'black')\n",
    "plt.title('Distribution of ROI, E-grade Loans')\n",
    "plt.xlabel('ROI')\n",
    "plt.ylabel('Loans')\n",
    "plt.show()"
   ]
  },
  {
   "cell_type": "code",
   "execution_count": 81,
   "metadata": {},
   "outputs": [
    {
     "name": "stdout",
     "output_type": "stream",
     "text": [
      "Mean ROI, Loans selected by model:  36.79 %\n"
     ]
    }
   ],
   "source": [
    "print('Mean ROI, Loans selected by model: ', round(np.mean(X_2_best_predictions.roi) * 100,2),'%')"
   ]
  },
  {
   "cell_type": "code",
   "execution_count": 82,
   "metadata": {},
   "outputs": [
    {
     "name": "stdout",
     "output_type": "stream",
     "text": [
      "Percent of loans with negative ROI using model:  7.21 %\n"
     ]
    }
   ],
   "source": [
    "print('Percent of loans with negative ROI using model: ', round(loss_percent_best,2),'%')"
   ]
  },
  {
   "cell_type": "code",
   "execution_count": 83,
   "metadata": {},
   "outputs": [
    {
     "data": {
      "image/png": "[encoded data removed]",
      "text/plain": [
       "<Figure size 432x288 with 1 Axes>"
      ]
     },
     "metadata": {
      "needs_background": "light"
     },
     "output_type": "display_data"
    }
   ],
   "source": [
    "plt.hist(X_2_best_predictions.roi, bins = np.arange(-1, 0.8, 0.05), edgecolor = 'black')\n",
    "plt.title('Distribution of ROI, Best Loans Selected by Model')\n",
    "plt.xlabel('ROI')\n",
    "plt.ylabel('Loans')\n",
    "plt.show()"
   ]
  },
  {
   "cell_type": "code",
   "execution_count": 90,
   "metadata": {},
   "outputs": [
    {
     "data": {
      "image/png": "[encoded data removed]",
      "text/plain": [
       "<Figure size 432x288 with 1 Axes>"
      ]
     },
     "metadata": {
      "needs_background": "light"
     },
     "output_type": "display_data"
    }
   ],
   "source": [
    "plt.hist(e_grade_loans.roi, bins = np.arange(-1, 0.8, 0.05),\n",
    "         edgecolor = 'black',\n",
    "         density = True,\n",
    "         color = 'blue', alpha = 0.7)\n",
    "plt.hist(X_2_best_predictions.roi, bins = np.arange(-1, 0.8, 0.05),\n",
    "         edgecolor = 'black',\n",
    "         density = True,\n",
    "         color = 'green', alpha = 0.7)\n",
    "plt.title('Distribution of ROI', size = 13)\n",
    "plt.xlabel('ROI', size = 12)\n",
    "plt.title('Interest Rate by Grade')\n",
    "plt.show()"
   ]
  },
  {
   "cell_type": "markdown",
   "metadata": {},
   "source": [
    "I'll take a look at the risk again by comparing the proportion of loans with negative ROI between the e-grade loans and the loans chosen by the model."
   ]
  },
  {
   "cell_type": "markdown",
   "metadata": {},
   "source": [
    "E-Grade loans excluding small business loans have a mean ROI of 17.32% compared to 12.2% for all loans. There is a larger proportion above 35% ROI than choosing from all loans at random, but there is also a higher proportion of loans with a negative ROI. In this scenario, investors are still better off selecting from the model’s top predictions that choosing the e-grade loans that are not for small business, but by a smaller margin. The following plot overlaps the egrade loans(blue) with the loans from the top predictions(green)."
   ]
  },
  {
   "cell_type": "markdown",
   "metadata": {},
   "source": [
    "There is much more overlap in this scenario, but some important differences for investors.  The loans chosen by the model have a much lower risk than choosing E-grade loans excluding small business loans, as shown by the much smaller proportion of loans with negative ROI. Another important thing for investors is the higher proportion of the loans chosen by the model with an ROI above 40%.  "
   ]
  },
  {
   "cell_type": "markdown",
   "metadata": {},
   "source": [
    "### Further Reserach\n",
    "\n",
    "There are many areas of further research that could offer more help to loan investors.  First, the linear regression is performing poorly compared to the other models, likely due to high  bias/underfitting.  This could be the result of making false assumptions of linearity of the data. Further research could be done to check the variables for linearity and to see if the model could be improved by transforming some variables. \n",
    "\n",
    "\n",
    "Another area of further research is to look at scenarios for different investment strategies. For example, risk-averse investors are more likely to invest in A and B grade loans because they are willing to trade a lower average ROI for lower risk. It would be interesting to see how much the model would help these investors, and whether it would allow for a higher average ROI without increasing the low risk. \n",
    "\n",
    "\n",
    "Research could also be done based on the length of loan, which is either 36 or 60 months. For this project they were grouped together, with the length as a predictor variable, however it would be interesting to model them separately and see the results. It would also allow for more recent data to be used in the case of 36 month loans.\n"
   ]
  },
  {
   "cell_type": "markdown",
   "metadata": {},
   "source": [
    "### Client Recommendations\n",
    "\n",
    "\n",
    "Using the machine learning model can help peer-to-peer loan investors both increase their ROI, and decrease the risk of losing money on loans.  The benefit of the model is unique to each investor’s strategy for choosing loans to invest in.\n",
    "\n",
    "When choosing loans at random, using the model is highly beneficial.  The ROI is projected to increase from 12.2% to 36.8%, more than tripling the returns.  For 100,000 invested, average earnings are expected to increase from 12,200 to 36,600. \n",
    "\n",
    "For investors willing to invest in higher-risk, higher return E-Grade loans, using the model is expected to increase the ROI  from 17.32% to 36.8%, while substantially reducing the risk that any given loan will have a negative return, dropping fromm 22% of loans down to 7.2% of loans.\n",
    "\n",
    "For other investment strategies, I recommend calculating the summary statistics of the data to see the average ROI and percent of loans with a negative ROI that are expected using that strategy, and compare the results to using the model.\n",
    "\n",
    "One final word of caution: Since the length of the loans is up to 60 months, the data used to build the models had to be at least 60 months old,  since the ROI would otherwise not be known. I expect the accuracy of the models to erode over time due to changes over the last 5-7 years, such as economic changes or changes to the way the data is collected and categorized. The model would certainly have been helpful for choosing loans to invest in from  2012 to 2013, but there is uncertainty in how helpful the model will be for choosing loans that originate today.  Still, many  of the same general principles  that were true 5-7 years ago will be true today, and the model should still offer a higher ROI and less risk for an investor.\n"
   ]
  },
  {
   "cell_type": "code",
   "execution_count": null,
   "metadata": {},
   "outputs": [],
   "source": []
  }
 ],
 "metadata": {
  "kernelspec": {
   "display_name": "Python 3",
   "language": "python",
   "name": "python3"
  },
  "language_info": {
   "codemirror_mode": {
    "name": "ipython",
    "version": 3
   },
   "file_extension": ".py",
   "mimetype": "text/x-python",
   "name": "python",
   "nbconvert_exporter": "python",
   "pygments_lexer": "ipython3",
   "version": "3.6.6"
  }
 },
 "nbformat": 4,
 "nbformat_minor": 2
}
